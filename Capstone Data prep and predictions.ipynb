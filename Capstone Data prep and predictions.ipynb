{
 "cells": [
  {
   "cell_type": "code",
   "execution_count": 1,
   "metadata": {
    "collapsed": true
   },
   "outputs": [],
   "source": [
    "import pandas as pd\n",
    "import matplotlib.pyplot as plt\n",
    "%matplotlib inline\n",
    "import numpy as np\n",
    "#import mca\n",
    "import math as math\n",
    "import xgboost as xgb"
   ]
  },
  {
   "cell_type": "code",
   "execution_count": 2,
   "metadata": {
    "collapsed": true
   },
   "outputs": [],
   "source": [
    "#Reading in train and test data\n",
    "trset = pd.read_csv(\"train.csv\")\n",
    "testv = pd.read_csv('test.csv')"
   ]
  },
  {
   "cell_type": "code",
   "execution_count": 3,
   "metadata": {
    "collapsed": false,
    "scrolled": true
   },
   "outputs": [],
   "source": [
    "#As explained earlier, dropping the variable v22\n",
    "trset_nov22 = trset.drop(['v22'],axis=1)\n",
    "testv_nov22 = testv.drop(['v22'],axis=1)\n"
   ]
  },
  {
   "cell_type": "code",
   "execution_count": 4,
   "metadata": {
    "collapsed": false,
    "scrolled": true
   },
   "outputs": [],
   "source": [
    "#Creating the sum of features metric and splitting the data set into two parts\n",
    "trset_X = trset_nov22.drop(['ID','target'], axis=1)\n",
    "trsetNaNnum = trset_X.notnull()\n",
    "trsetNaNnum.astype(int)\n",
    "trsetNaNnum['TotalFeatures']=trsetNaNnum.sum(axis=1)\n",
    "trsetNaNnum['ID'] = trset['ID']\n",
    "trsetNaNnum = trsetNaNnum[['TotalFeatures','ID']]\n",
    "\n",
    "trsetsum = pd.merge(trset_nov22,trsetNaNnum)\n",
    "\n",
    "trsetsum27_31 = trsetsum[(trsetsum['TotalFeatures']>25) & (trsetsum['TotalFeatures']<31)]\n",
    "trsetsum127_131 = trsetsum[(trsetsum['TotalFeatures']>125) & (trsetsum['TotalFeatures']<131)]\n"
   ]
  },
  {
   "cell_type": "code",
   "execution_count": 5,
   "metadata": {
    "collapsed": false
   },
   "outputs": [],
   "source": [
    "#Repeating the operation for the test data\n",
    "testv_X = testv_nov22.drop(['ID'], axis=1)\n",
    "tNaNnum = testv_X.notnull()\n",
    "tNaNnum.astype(int)\n",
    "tNaNnum['TotalFeatures']=tNaNnum.sum(axis=1)\n",
    "tNaNnum['ID'] = testv['ID']\n",
    "tNaNnum = tNaNnum[['TotalFeatures','ID']]\n",
    "\n",
    "tsum = pd.merge(testv_nov22,tNaNnum)\n",
    "\n",
    "tsum27_31 = tsum[(tsum['TotalFeatures']>25) & (tsum['TotalFeatures']<31)]\n",
    "tsum127_131 = tsum[(tsum['TotalFeatures']>125) & (tsum['TotalFeatures']<131)]\n"
   ]
  },
  {
   "cell_type": "code",
   "execution_count": 6,
   "metadata": {
    "collapsed": false
   },
   "outputs": [
    {
     "data": {
      "text/plain": [
       "(47628, 132)"
      ]
     },
     "execution_count": 6,
     "metadata": {},
     "output_type": "execute_result"
    }
   ],
   "source": [
    "tsum27_31.shape"
   ]
  },
  {
   "cell_type": "code",
   "execution_count": 7,
   "metadata": {
    "collapsed": false
   },
   "outputs": [],
   "source": [
    "#Preparing a list of features to remove from the smaller data set (zero available values)\n",
    "droplabels=['TotalFeatures']\n",
    "for label in trsetsum27_31.columns:\n",
    "    if trsetsum27_31[label].count()==0:\n",
    "        droplabels.append(label)\n",
    "\n"
   ]
  },
  {
   "cell_type": "code",
   "execution_count": 8,
   "metadata": {
    "collapsed": false
   },
   "outputs": [],
   "source": [
    "#Dopping features\n",
    "trsetsum27_31=trsetsum27_31.drop(droplabels,axis=1)\n",
    "trsetsum127_131=trsetsum127_131.drop('TotalFeatures',axis=1)\n",
    "tsum27_31=tsum27_31.drop(droplabels,axis=1)\n",
    "tsum127_131=tsum127_131.drop('TotalFeatures',axis=1)\n"
   ]
  },
  {
   "cell_type": "code",
   "execution_count": 9,
   "metadata": {
    "collapsed": false
   },
   "outputs": [
    {
     "name": "stdout",
     "output_type": "stream",
     "text": [
      "['v3', 'v24', 'v30', 'v31', 'v47', 'v52', 'v56', 'v66', 'v71', 'v74', 'v75', 'v79', 'v91', 'v107', 'v110', 'v112', 'v113', 'v125']\n",
      "['ID', 'target', 'v10', 'v12', 'v14', 'v21', 'v34', 'v38', 'v40', 'v50', 'v62', 'v72', 'v114', 'v129']\n"
     ]
    },
    {
     "data": {
      "text/plain": [
       "14"
      ]
     },
     "execution_count": 9,
     "metadata": {},
     "output_type": "execute_result"
    }
   ],
   "source": [
    "#Figuring out which variables are numeric and which are categorical\n",
    "t_means = trsetsum27_31.mean()\n",
    "\n",
    "trset_meandf = t_means.to_frame()\n",
    "\n",
    "catlabels_sm = [];\n",
    "alllabels_sm = list(trsetsum27_31.columns.values)\n",
    "numlabels_sm = list(trset_meandf.index.values)\n",
    "\n",
    "for label in alllabels_sm:\n",
    "    if label not in numlabels_sm:\n",
    "        #print(label)\n",
    "        catlabels_sm.append(label)\n",
    "\n",
    "print(catlabels_sm)\n",
    "len(catlabels_sm)\n",
    "print(numlabels_sm)\n",
    "len(numlabels_sm)"
   ]
  },
  {
   "cell_type": "code",
   "execution_count": 10,
   "metadata": {
    "collapsed": false
   },
   "outputs": [
    {
     "name": "stdout",
     "output_type": "stream",
     "text": [
      "['v3', 'v24', 'v30', 'v31', 'v47', 'v52', 'v56', 'v66', 'v71', 'v74', 'v75', 'v79', 'v91', 'v107', 'v110', 'v112', 'v113', 'v125']\n",
      "['ID', 'target', 'v1', 'v2', 'v4', 'v5', 'v6', 'v7', 'v8', 'v9', 'v10', 'v11', 'v12', 'v13', 'v14', 'v15', 'v16', 'v17', 'v18', 'v19', 'v20', 'v21', 'v23', 'v25', 'v26', 'v27', 'v28', 'v29', 'v32', 'v33', 'v34', 'v35', 'v36', 'v37', 'v38', 'v39', 'v40', 'v41', 'v42', 'v43', 'v44', 'v45', 'v46', 'v48', 'v49', 'v50', 'v51', 'v53', 'v54', 'v55', 'v57', 'v58', 'v59', 'v60', 'v61', 'v62', 'v63', 'v64', 'v65', 'v67', 'v68', 'v69', 'v70', 'v72', 'v73', 'v76', 'v77', 'v78', 'v80', 'v81', 'v82', 'v83', 'v84', 'v85', 'v86', 'v87', 'v88', 'v89', 'v90', 'v92', 'v93', 'v94', 'v95', 'v96', 'v97', 'v98', 'v99', 'v100', 'v101', 'v102', 'v103', 'v104', 'v105', 'v106', 'v108', 'v109', 'v111', 'v114', 'v115', 'v116', 'v117', 'v118', 'v119', 'v120', 'v121', 'v122', 'v123', 'v124', 'v126', 'v127', 'v128', 'v129', 'v130', 'v131']\n"
     ]
    },
    {
     "data": {
      "text/plain": [
       "114"
      ]
     },
     "execution_count": 10,
     "metadata": {},
     "output_type": "execute_result"
    }
   ],
   "source": [
    "#Same for the larger data set\n",
    "t_means = trsetsum127_131.mean()\n",
    "\n",
    "trset_meandf = t_means.to_frame()\n",
    "\n",
    "catlabels_lg = [];\n",
    "alllabels_lg = list(trsetsum127_131.columns.values)\n",
    "numlabels_lg = list(trset_meandf.index.values)\n",
    "\n",
    "for label in alllabels_lg:\n",
    "    if label not in numlabels_lg:\n",
    "        #print(label)\n",
    "        catlabels_lg.append(label)\n",
    "\n",
    "print(catlabels_lg)\n",
    "len(catlabels_lg)\n",
    "print(numlabels_lg)\n",
    "len(numlabels_lg)"
   ]
  },
  {
   "cell_type": "code",
   "execution_count": 11,
   "metadata": {
    "collapsed": false
   },
   "outputs": [],
   "source": [
    "#Combining the unique values of categoricals in both train and test to create a master list for \n",
    "#one hot encoding\n",
    "trset_sm = pd.DataFrame(trsetsum27_31[catlabels_sm])\n",
    "trset_lg = pd.DataFrame(trsetsum127_131[catlabels_lg])\n",
    "\n",
    "testv_sm = pd.DataFrame(tsum27_31[catlabels_sm])\n",
    "testv_lg = pd.DataFrame(tsum127_131[catlabels_lg])\n",
    "\n",
    "combinedcats_sm = pd.concat([trset_sm,testv_sm])\n",
    "combinedcats_lg = pd.concat([trset_lg,testv_lg])\n",
    "\n"
   ]
  },
  {
   "cell_type": "code",
   "execution_count": 12,
   "metadata": {
    "collapsed": false
   },
   "outputs": [
    {
     "name": "stdout",
     "output_type": "stream",
     "text": [
      "(47589, 32) (47628, 31)\n"
     ]
    }
   ],
   "source": [
    "#Checking some dimensions\n",
    "print(trsetsum27_31.shape,tsum27_31.shape)"
   ]
  },
  {
   "cell_type": "code",
   "execution_count": 13,
   "metadata": {
    "collapsed": false
   },
   "outputs": [
    {
     "name": "stdout",
     "output_type": "stream",
     "text": [
      "(63500, 132) (63534, 131)\n"
     ]
    }
   ],
   "source": [
    "print(trsetsum127_131.shape,tsum127_131.shape)"
   ]
  },
  {
   "cell_type": "code",
   "execution_count": 14,
   "metadata": {
    "collapsed": false
   },
   "outputs": [
    {
     "data": {
      "text/plain": [
       "(95217, 18)"
      ]
     },
     "execution_count": 14,
     "metadata": {},
     "output_type": "execute_result"
    }
   ],
   "source": [
    "combinedcats_sm.shape"
   ]
  },
  {
   "cell_type": "code",
   "execution_count": 15,
   "metadata": {
    "collapsed": false
   },
   "outputs": [
    {
     "data": {
      "text/plain": [
       "(127034, 18)"
      ]
     },
     "execution_count": 15,
     "metadata": {},
     "output_type": "execute_result"
    }
   ],
   "source": [
    "combinedcats_lg.shape"
   ]
  },
  {
   "cell_type": "code",
   "execution_count": 16,
   "metadata": {
    "collapsed": false
   },
   "outputs": [],
   "source": [
    "#Creating dummy variables\n",
    "dums_sm = pd.get_dummies(combinedcats_sm,drop_first=True)\n",
    "\n",
    "dums_lg = pd.get_dummies(combinedcats_lg,drop_first=True)"
   ]
  },
  {
   "cell_type": "code",
   "execution_count": 17,
   "metadata": {
    "collapsed": false
   },
   "outputs": [],
   "source": [
    "#Splitting the dummy variables back into the train and test parts \n",
    "dums_sm_tr = dums_sm.iloc[0:len(trsetsum27_31)-1]\n",
    "dums_sm_test = dums_sm.iloc[len(trsetsum27_31):]\n",
    "\n",
    "dums_lg_tr = dums_lg.iloc[0:len(trsetsum127_131)-1]\n",
    "dums_lg_test = dums_lg.iloc[len(trsetsum127_131):]\n"
   ]
  },
  {
   "cell_type": "code",
   "execution_count": 18,
   "metadata": {
    "collapsed": false
   },
   "outputs": [],
   "source": [
    "#Removing the original categoricals and concatenating the dummies back into the main sets\n",
    "to_drop = catlabels_sm\n",
    "\n",
    "trset_sm_xgb = pd.concat([trsetsum27_31,dums_sm_tr],axis=1)\n",
    "trset_sm_xgb = trset_sm_xgb.drop(to_drop, axis=1)\n",
    "\n",
    "trset_lg_xgb = pd.concat([trsetsum127_131,dums_lg_tr],axis=1)\n",
    "trset_lg_xgb = trset_lg_xgb.drop(to_drop, axis=1)\n",
    "\n",
    "testv_sm_xgb = pd.concat([tsum27_31,dums_sm_test],axis=1)\n",
    "testv_sm_xgb = testv_sm_xgb.drop(to_drop, axis=1)\n",
    "\n",
    "testv_lg_xgb = pd.concat([tsum127_131,dums_lg_test],axis=1)\n",
    "testv_lg_xgb = testv_lg_xgb.drop(to_drop, axis=1)\n",
    "\n"
   ]
  },
  {
   "cell_type": "code",
   "execution_count": 19,
   "metadata": {
    "collapsed": false
   },
   "outputs": [],
   "source": [
    "from xgboost.sklearn import XGBClassifier\n",
    "from sklearn import cross_validation, metrics\n",
    "from sklearn.grid_search import GridSearchCV, RandomizedSearchCV\n",
    "from sklearn.metrics import log_loss,accuracy_score,roc_auc_score\n"
   ]
  },
  {
   "cell_type": "code",
   "execution_count": 24,
   "metadata": {
    "collapsed": false
   },
   "outputs": [],
   "source": [
    "#The function which is used to generate predictions\n",
    "def modelfit(alg, dtrain, predictors, test_df, useTrainCV=True, cv_folds=5, early_stopping_rounds=50):\n",
    "    \n",
    "    #Creating a holdout data set\n",
    "    dtrain2 = dtrain.sample(frac=1)\n",
    "    IDS = pd.Series(dtrain2.ID)\n",
    "    \n",
    "    splitindex = int(0.3*len(dtrain2))\n",
    "    dtrain_holdout_ID = dtrain2[:splitindex]\n",
    "    dtrain_ID = dtrain2[splitindex+1:]\n",
    "    \n",
    "    dtrain_holdout = dtrain_holdout_ID.drop('ID',axis=1)\n",
    "    dtrain = dtrain_ID.drop('ID',axis=1)\n",
    "    \n",
    "    #Checking dimensions\n",
    "    print(dtrain.shape)\n",
    "    print(dtrain_holdout.shape)\n",
    "    \n",
    "    #Using XGB's cross val routine\n",
    "    if useTrainCV:\n",
    "        xgb_param = alg.get_xgb_params()\n",
    "        xgtrain = xgb.DMatrix(dtrain[predictors].values, label=dtrain[['target']].values)\n",
    "        cvresult = xgb.cv(xgb_param, xgtrain, num_boost_round=alg.get_params()['n_estimators'], nfold=cv_folds,\n",
    "            metrics='logloss', early_stopping_rounds=early_stopping_rounds, verbose_eval=30)\n",
    "        alg.set_params(n_estimators=cvresult.shape[0])\n",
    "    \n",
    "    #Fit the algorithm on the data\n",
    "    alg.fit(dtrain[predictors], dtrain['target'],eval_metric='logloss')\n",
    "        \n",
    "    #Predict test set:\n",
    "    dtrain_predictions = alg.predict(test_df[predictors])\n",
    "    dtrain_predprob = alg.predict_proba(test_df[predictors])[:,1]\n",
    "    \n",
    "    #Merge the list of IDs with the predicted probabilities, to create a CSV which can be submitted\n",
    "    sub = {'ID':list(test_df.ID),'PredictedProb':dtrain_predprob}\n",
    "    subDF = pd.DataFrame(sub)\n",
    "    \n",
    "    #Making predictions on the hold out set\n",
    "    dtrain_predictions = alg.predict(dtrain_holdout[predictors])\n",
    "    dtrain_predprob = alg.predict_proba(dtrain_holdout[predictors])[:,1]\n",
    "   \n",
    "    #Printing some accuracy metrics\n",
    "    print('Log loss:',log_loss(dtrain_holdout.target,dtrain_predprob))\n",
    "    print('Accuracy:',accuracy_score(dtrain_holdout.target,np.round(dtrain_predprob).astype(int)))\n",
    "    print('Area under ROC curve',roc_auc_score(dtrain_holdout.target,dtrain_predprob))\n",
    "    \n",
    "    \n",
    "    #Print model report:\n",
    "    #print(\"\\nModel Report\")\n",
    "    #print(\"Accuracy : %.4g\" % metrics.accuracy_score(dtrain['target'].values, dtrain_predictions))\n",
    "    #print(\"AUC Score (Train): %f\" % metrics.roc_auc_score(dtrain['target'], dtrain_predprob))\n",
    "                    \n",
    "    feat_imp = pd.Series(alg.booster().get_fscore()).sort_values(ascending=False)\n",
    "    #feat_imp.plot(kind='bar', title='Feature Importances')\n",
    "    #plt.ylabel('Feature Importance Score')\n",
    "    \n",
    "    return feat_imp, dtrain_predprob, subDF"
   ]
  },
  {
   "cell_type": "code",
   "execution_count": null,
   "metadata": {
    "collapsed": false,
    "scrolled": false
   },
   "outputs": [
    {
     "name": "stdout",
     "output_type": "stream",
     "text": [
      "348  features\n",
      "(33312, 349)\n",
      "(14276, 349)\n",
      "[0]\ttrain-logloss:0.687522+3.53802e-05\ttest-logloss:0.687596+8.52887e-05\n",
      "[30]\ttrain-logloss:0.567571+0.00111778\ttest-logloss:0.57002+0.00223065\n",
      "[60]\ttrain-logloss:0.507706+0.00131563\ttest-logloss:0.512702+0.00439044\n",
      "[90]\ttrain-logloss:0.477995+0.0011938\ttest-logloss:0.485612+0.00553733\n",
      "[120]\ttrain-logloss:0.46259+0.00141999\ttest-logloss:0.472656+0.00606752\n",
      "[150]\ttrain-logloss:0.453559+0.00141317\ttest-logloss:0.466107+0.0066154\n",
      "[180]\ttrain-logloss:0.447309+0.001667\ttest-logloss:0.462325+0.0068839\n",
      "[210]\ttrain-logloss:0.442883+0.00174385\ttest-logloss:0.460216+0.0071\n",
      "[240]\ttrain-logloss:0.439195+0.00178619\ttest-logloss:0.458796+0.007307\n",
      "[270]\ttrain-logloss:0.436294+0.00187077\ttest-logloss:0.457799+0.00750605\n",
      "[300]\ttrain-logloss:0.43384+0.00194382\ttest-logloss:0.457117+0.007677\n",
      "[330]\ttrain-logloss:0.431565+0.00195788\ttest-logloss:0.456538+0.00783388\n",
      "[360]\ttrain-logloss:0.42949+0.0018636\ttest-logloss:0.456171+0.00797071\n",
      "[390]\ttrain-logloss:0.427645+0.00185647\ttest-logloss:0.455855+0.00804175\n",
      "[420]\ttrain-logloss:0.42584+0.00187687\ttest-logloss:0.455644+0.00807483\n",
      "[450]\ttrain-logloss:0.424033+0.00188837\ttest-logloss:0.455402+0.00815224\n",
      "[480]\ttrain-logloss:0.422269+0.00202767\ttest-logloss:0.455305+0.00819658\n",
      "Log loss: 0.44355929663\n",
      "Accuracy: 0.800154104791\n",
      "Area under ROC curve 0.771802793489\n",
      "452  features\n",
      "(44449, 453)\n",
      "(19050, 453)\n",
      "[0]\ttrain-logloss:0.687958+2.40416e-05\ttest-logloss:0.688125+8.88311e-05\n",
      "[30]\ttrain-logloss:0.575169+0.000717302\ttest-logloss:0.579716+0.00240314\n",
      "[60]\ttrain-logloss:0.520343+0.00120538\ttest-logloss:0.52879+0.00360973\n",
      "[90]\ttrain-logloss:0.493749+0.00120015\ttest-logloss:0.506235+0.00482538\n",
      "[120]\ttrain-logloss:0.479412+0.00141071\ttest-logloss:0.49607+0.00556451\n",
      "[150]\ttrain-logloss:0.470324+0.00157809\ttest-logloss:0.49089+0.00592024\n",
      "[180]\ttrain-logloss:0.463601+0.00158041\ttest-logloss:0.488278+0.00623096\n",
      "[210]\ttrain-logloss:0.457975+0.00165175\ttest-logloss:0.486783+0.00640745\n",
      "[240]\ttrain-logloss:0.452798+0.00168973\ttest-logloss:0.485839+0.00653036\n",
      "[270]\ttrain-logloss:0.448095+0.00198809\ttest-logloss:0.485307+0.00658417\n",
      "[300]\ttrain-logloss:0.443694+0.00196995\ttest-logloss:0.484741+0.00658923\n",
      "[330]\ttrain-logloss:0.439208+0.00192737\ttest-logloss:0.484434+0.00662911\n",
      "[360]\ttrain-logloss:0.434975+0.00184843\ttest-logloss:0.48416+0.00650908\n",
      "[390]\ttrain-logloss:0.430771+0.00184499\ttest-logloss:0.483969+0.006569\n",
      "[420]\ttrain-logloss:0.426859+0.00196581\ttest-logloss:0.483787+0.00661673\n",
      "[450]\ttrain-logloss:0.423031+0.00202387\ttest-logloss:0.483623+0.00658609\n",
      "[480]\ttrain-logloss:0.419051+0.00207834\ttest-logloss:0.483513+0.00651668\n",
      "Log loss: 0.475450764217\n",
      "Accuracy: 0.776955380577\n",
      "Area under ROC curve 0.747324417547\n",
      "Small -  348  features ['v10', 'v12', 'v14', 'v21', 'v34', 'v38', 'v40', 'v50', 'v62', 'v72', 'v114', 'v129', 'v3_B', 'v3_C', 'v24_B', 'v24_C', 'v24_D', 'v24_E', 'v30_B', 'v30_C', 'v30_D', 'v30_E', 'v30_F', 'v30_G', 'v31_B', 'v31_C', 'v47_B', 'v47_C', 'v47_D', 'v47_E', 'v47_F', 'v47_G', 'v47_I', 'v47_J', 'v52_B', 'v52_C', 'v52_D', 'v52_E', 'v52_F', 'v52_G', 'v52_H', 'v52_I', 'v52_J', 'v52_K', 'v52_L', 'v56_AA', 'v56_AC', 'v56_AD', 'v56_AE', 'v56_AF', 'v56_AG', 'v56_AH', 'v56_AI', 'v56_AJ', 'v56_AK', 'v56_AL', 'v56_AM', 'v56_AN', 'v56_AO', 'v56_AQ', 'v56_AR', 'v56_AS', 'v56_AU', 'v56_AV', 'v56_AW', 'v56_AY', 'v56_AZ', 'v56_B', 'v56_BA', 'v56_BB', 'v56_BD', 'v56_BE', 'v56_BF', 'v56_BG', 'v56_BH', 'v56_BI', 'v56_BJ', 'v56_BK', 'v56_BL', 'v56_BM', 'v56_BN', 'v56_BO', 'v56_BP', 'v56_BQ', 'v56_BR', 'v56_BS', 'v56_BT', 'v56_BU', 'v56_BV', 'v56_BW', 'v56_BX', 'v56_BY', 'v56_BZ', 'v56_C', 'v56_CA', 'v56_CB', 'v56_CC', 'v56_CD', 'v56_CF', 'v56_CG', 'v56_CH', 'v56_CI', 'v56_CJ', 'v56_CL', 'v56_CM', 'v56_CN', 'v56_CO', 'v56_CP', 'v56_CQ', 'v56_CR', 'v56_CS', 'v56_CT', 'v56_CV', 'v56_CW', 'v56_CX', 'v56_CY', 'v56_D', 'v56_DA', 'v56_DD', 'v56_DE', 'v56_DF', 'v56_DG', 'v56_DH', 'v56_DI', 'v56_DJ', 'v56_DK', 'v56_DL', 'v56_DM', 'v56_DN', 'v56_DO', 'v56_DP', 'v56_DQ', 'v56_DR', 'v56_DS', 'v56_DT', 'v56_DU', 'v56_DV', 'v56_DW', 'v56_DX', 'v56_DY', 'v56_DZ', 'v56_E', 'v56_F', 'v56_G', 'v56_H', 'v56_I', 'v56_J', 'v56_L', 'v56_N', 'v56_O', 'v56_P', 'v56_Q', 'v56_R', 'v56_T', 'v56_U', 'v56_V', 'v56_W', 'v56_X', 'v56_Y', 'v56_Z', 'v66_B', 'v66_C', 'v71_C', 'v71_D', 'v71_F', 'v71_L', 'v74_B', 'v74_C', 'v75_B', 'v75_C', 'v75_D', 'v79_B', 'v79_C', 'v79_D', 'v79_E', 'v79_F', 'v79_G', 'v79_H', 'v79_I', 'v79_J', 'v79_K', 'v79_L', 'v79_M', 'v79_N', 'v79_O', 'v79_P', 'v79_Q', 'v79_R', 'v91_B', 'v91_C', 'v91_D', 'v91_E', 'v91_F', 'v91_G', 'v107_B', 'v107_C', 'v107_D', 'v107_E', 'v107_F', 'v107_G', 'v110_B', 'v110_C', 'v112_B', 'v112_C', 'v112_D', 'v112_E', 'v112_F', 'v112_G', 'v112_H', 'v112_I', 'v112_J', 'v112_K', 'v112_L', 'v112_M', 'v112_N', 'v112_O', 'v112_P', 'v112_Q', 'v112_R', 'v112_S', 'v112_T', 'v112_U', 'v112_V', 'v113_AA', 'v113_AB', 'v113_AC', 'v113_AD', 'v113_AE', 'v113_AF', 'v113_AG', 'v113_AH', 'v113_AI', 'v113_AJ', 'v113_AK', 'v113_B', 'v113_C', 'v113_D', 'v113_E', 'v113_F', 'v113_G', 'v113_H', 'v113_I', 'v113_J', 'v113_K', 'v113_L', 'v113_M', 'v113_N', 'v113_O', 'v113_P', 'v113_Q', 'v113_R', 'v113_S', 'v113_T', 'v113_U', 'v113_V', 'v113_W', 'v113_X', 'v113_Y', 'v113_Z', 'v125_AA', 'v125_AB', 'v125_AC', 'v125_AD', 'v125_AE', 'v125_AF', 'v125_AG', 'v125_AH', 'v125_AI', 'v125_AJ', 'v125_AK', 'v125_AL', 'v125_AM', 'v125_AN', 'v125_AO', 'v125_AP', 'v125_AQ', 'v125_AR', 'v125_AS', 'v125_AT', 'v125_AU', 'v125_AV', 'v125_AW', 'v125_AX', 'v125_AY', 'v125_AZ', 'v125_B', 'v125_BA', 'v125_BB', 'v125_BC', 'v125_BD', 'v125_BE', 'v125_BF', 'v125_BG', 'v125_BH', 'v125_BI', 'v125_BJ', 'v125_BK', 'v125_BL', 'v125_BM', 'v125_BN', 'v125_BO', 'v125_BP', 'v125_BQ', 'v125_BR', 'v125_BS', 'v125_BT', 'v125_BU', 'v125_BV', 'v125_BW', 'v125_BX', 'v125_BY', 'v125_BZ', 'v125_C', 'v125_CA', 'v125_CB', 'v125_CC', 'v125_CD', 'v125_CE', 'v125_CF', 'v125_CG', 'v125_CH', 'v125_CI', 'v125_CJ', 'v125_CK', 'v125_CL', 'v125_D', 'v125_E', 'v125_F', 'v125_G', 'v125_H', 'v125_I', 'v125_J', 'v125_K', 'v125_L', 'v125_M', 'v125_N', 'v125_O', 'v125_P', 'v125_Q', 'v125_R', 'v125_S', 'v125_T', 'v125_U', 'v125_V', 'v125_W', 'v125_X', 'v125_Y', 'v125_Z']\n",
      "Large -  452  features ['v1', 'v2', 'v4', 'v5', 'v6', 'v7', 'v8', 'v9', 'v10', 'v11', 'v12', 'v13', 'v14', 'v15', 'v16', 'v17', 'v18', 'v19', 'v20', 'v21', 'v23', 'v25', 'v26', 'v27', 'v28', 'v29', 'v32', 'v33', 'v34', 'v35', 'v36', 'v37', 'v38', 'v39', 'v40', 'v41', 'v42', 'v43', 'v44', 'v45', 'v46', 'v48', 'v49', 'v50', 'v51', 'v53', 'v54', 'v55', 'v57', 'v58', 'v59', 'v60', 'v61', 'v62', 'v63', 'v64', 'v65', 'v67', 'v68', 'v69', 'v70', 'v72', 'v73', 'v76', 'v77', 'v78', 'v80', 'v81', 'v82', 'v83', 'v84', 'v85', 'v86', 'v87', 'v88', 'v89', 'v90', 'v92', 'v93', 'v94', 'v95', 'v96', 'v97', 'v98', 'v99', 'v100', 'v101', 'v102', 'v103', 'v104', 'v105', 'v106', 'v108', 'v109', 'v111', 'v114', 'v115', 'v116', 'v117', 'v118', 'v119', 'v120', 'v121', 'v122', 'v123', 'v124', 'v126', 'v127', 'v128', 'v129', 'v130', 'v131', 'v3_B', 'v3_C', 'v24_B', 'v24_C', 'v24_D', 'v24_E', 'v30_B', 'v30_C', 'v30_D', 'v30_E', 'v30_F', 'v30_G', 'v31_B', 'v31_C', 'v47_B', 'v47_C', 'v47_D', 'v47_E', 'v47_F', 'v47_G', 'v47_I', 'v47_J', 'v52_B', 'v52_C', 'v52_D', 'v52_E', 'v52_F', 'v52_G', 'v52_H', 'v52_I', 'v52_J', 'v52_K', 'v52_L', 'v56_AA', 'v56_AB', 'v56_AC', 'v56_AF', 'v56_AG', 'v56_AH', 'v56_AI', 'v56_AJ', 'v56_AK', 'v56_AL', 'v56_AM', 'v56_AN', 'v56_AO', 'v56_AP', 'v56_AR', 'v56_AS', 'v56_AT', 'v56_AU', 'v56_AV', 'v56_AW', 'v56_AY', 'v56_AZ', 'v56_B', 'v56_BA', 'v56_BC', 'v56_BD', 'v56_BE', 'v56_BF', 'v56_BG', 'v56_BH', 'v56_BI', 'v56_BJ', 'v56_BK', 'v56_BL', 'v56_BM', 'v56_BN', 'v56_BO', 'v56_BP', 'v56_BQ', 'v56_BR', 'v56_BS', 'v56_BT', 'v56_BU', 'v56_BV', 'v56_BW', 'v56_BX', 'v56_BY', 'v56_BZ', 'v56_C', 'v56_CA', 'v56_CB', 'v56_CC', 'v56_CD', 'v56_CE', 'v56_CF', 'v56_CH', 'v56_CI', 'v56_CJ', 'v56_CK', 'v56_CL', 'v56_CM', 'v56_CN', 'v56_CO', 'v56_CP', 'v56_CQ', 'v56_CS', 'v56_CT', 'v56_CU', 'v56_CV', 'v56_CW', 'v56_CX', 'v56_CY', 'v56_CZ', 'v56_D', 'v56_DA', 'v56_DB', 'v56_DC', 'v56_DD', 'v56_DE', 'v56_DF', 'v56_DG', 'v56_DH', 'v56_DI', 'v56_DJ', 'v56_DK', 'v56_DL', 'v56_DM', 'v56_DN', 'v56_DO', 'v56_DP', 'v56_DQ', 'v56_DR', 'v56_DS', 'v56_DT', 'v56_DU', 'v56_DV', 'v56_DW', 'v56_DX', 'v56_DY', 'v56_DZ', 'v56_E', 'v56_F', 'v56_G', 'v56_H', 'v56_K', 'v56_M', 'v56_N', 'v56_O', 'v56_P', 'v56_Q', 'v56_R', 'v56_S', 'v56_T', 'v56_U', 'v56_V', 'v56_W', 'v56_Y', 'v56_Z', 'v66_B', 'v66_C', 'v71_B', 'v71_C', 'v71_E', 'v71_F', 'v71_H', 'v71_I', 'v71_J', 'v71_K', 'v71_L', 'v74_B', 'v74_C', 'v75_B', 'v75_C', 'v75_D', 'v79_B', 'v79_C', 'v79_D', 'v79_E', 'v79_F', 'v79_G', 'v79_H', 'v79_I', 'v79_J', 'v79_K', 'v79_M', 'v79_N', 'v79_O', 'v79_P', 'v79_Q', 'v79_R', 'v91_B', 'v91_C', 'v91_D', 'v91_E', 'v91_F', 'v91_G', 'v107_B', 'v107_C', 'v107_D', 'v107_E', 'v107_F', 'v107_G', 'v110_B', 'v110_C', 'v112_B', 'v112_C', 'v112_D', 'v112_E', 'v112_F', 'v112_G', 'v112_H', 'v112_I', 'v112_J', 'v112_K', 'v112_L', 'v112_M', 'v112_N', 'v112_O', 'v112_P', 'v112_Q', 'v112_R', 'v112_S', 'v112_T', 'v112_U', 'v112_V', 'v113_AA', 'v113_AB', 'v113_AC', 'v113_AD', 'v113_AE', 'v113_AF', 'v113_AG', 'v113_AH', 'v113_AI', 'v113_AJ', 'v113_B', 'v113_C', 'v113_D', 'v113_E', 'v113_F', 'v113_G', 'v113_H', 'v113_I', 'v113_J', 'v113_L', 'v113_M', 'v113_N', 'v113_O', 'v113_P', 'v113_Q', 'v113_R', 'v113_S', 'v113_T', 'v113_U', 'v113_V', 'v113_W', 'v113_X', 'v113_Y', 'v113_Z', 'v125_AA', 'v125_AB', 'v125_AC', 'v125_AD', 'v125_AE', 'v125_AF', 'v125_AG', 'v125_AH', 'v125_AI', 'v125_AJ', 'v125_AK', 'v125_AL', 'v125_AM', 'v125_AN', 'v125_AO', 'v125_AP', 'v125_AQ', 'v125_AR', 'v125_AS', 'v125_AT', 'v125_AU', 'v125_AV', 'v125_AW', 'v125_AX', 'v125_AY', 'v125_AZ', 'v125_B', 'v125_BA', 'v125_BB', 'v125_BC', 'v125_BD', 'v125_BE', 'v125_BF', 'v125_BG', 'v125_BH', 'v125_BI', 'v125_BJ', 'v125_BK', 'v125_BL', 'v125_BM', 'v125_BN', 'v125_BO', 'v125_BP', 'v125_BQ', 'v125_BR', 'v125_BS', 'v125_BT', 'v125_BU', 'v125_BV', 'v125_BW', 'v125_BX', 'v125_BY', 'v125_C', 'v125_CA', 'v125_CB', 'v125_CC', 'v125_CD', 'v125_CE', 'v125_CF', 'v125_CG', 'v125_CH', 'v125_CI', 'v125_CJ', 'v125_CK', 'v125_CL', 'v125_D', 'v125_E', 'v125_F', 'v125_G', 'v125_H', 'v125_I', 'v125_J', 'v125_K', 'v125_L', 'v125_M', 'v125_N', 'v125_O', 'v125_P', 'v125_Q', 'v125_R', 'v125_S', 'v125_T', 'v125_U', 'v125_V', 'v125_W', 'v125_X', 'v125_Y', 'v125_Z']\n",
      "328  features\n",
      "(33312, 329)\n",
      "(14276, 329)\n",
      "[0]\ttrain-logloss:0.687625+4.1601e-05\ttest-logloss:0.687723+4.47589e-05\n",
      "[30]\ttrain-logloss:0.566879+0.000763104\ttest-logloss:0.569402+0.00193321\n",
      "[60]\ttrain-logloss:0.506306+0.000771875\ttest-logloss:0.511309+0.00291936\n",
      "[90]\ttrain-logloss:0.476397+0.00125373\ttest-logloss:0.483852+0.00323178\n",
      "[120]\ttrain-logloss:0.460379+0.00102606\ttest-logloss:0.470209+0.0037476\n",
      "[150]\ttrain-logloss:0.451046+0.000910983\ttest-logloss:0.463293+0.00407671\n",
      "[180]\ttrain-logloss:0.444933+0.00108701\ttest-logloss:0.459431+0.00413425\n",
      "[210]\ttrain-logloss:0.440352+0.000991713\ttest-logloss:0.457123+0.00427082\n",
      "[240]\ttrain-logloss:0.436621+0.00112716\ttest-logloss:0.455561+0.00419671\n",
      "[270]\ttrain-logloss:0.433614+0.00125911\ttest-logloss:0.454684+0.00415203\n",
      "[300]\ttrain-logloss:0.431112+0.0011011\ttest-logloss:0.454066+0.00413244\n",
      "[330]\ttrain-logloss:0.428852+0.00114061\ttest-logloss:0.453557+0.00415788\n",
      "[360]\ttrain-logloss:0.426776+0.00102329\ttest-logloss:0.453182+0.00423764\n",
      "[390]\ttrain-logloss:0.424903+0.00104548\ttest-logloss:0.452935+0.00427572\n",
      "[420]\ttrain-logloss:0.423056+0.00111827\ttest-logloss:0.452756+0.0042436\n",
      "[450]\ttrain-logloss:0.421285+0.00105414\ttest-logloss:0.452626+0.00434903\n",
      "[480]\ttrain-logloss:0.419629+0.000987092\ttest-logloss:0.452549+0.00432405\n",
      "Log loss: 0.449394003462\n",
      "Accuracy: 0.795601008686\n",
      "Area under ROC curve 0.767835614824\n",
      "432  features\n",
      "(44449, 433)\n",
      "(19050, 433)\n",
      "[0]\ttrain-logloss:0.687927+2.43442e-05\ttest-logloss:0.68808+3.9987e-05\n",
      "[30]\ttrain-logloss:0.575421+0.000303399\ttest-logloss:0.580016+0.000733378\n",
      "[60]\ttrain-logloss:0.520281+0.000460898\ttest-logloss:0.529059+0.00129782\n",
      "[90]\ttrain-logloss:0.493251+0.000522054\ttest-logloss:0.506194+0.00158615\n",
      "[120]\ttrain-logloss:0.478916+0.000640789\ttest-logloss:0.496006+0.00178508\n",
      "[150]\ttrain-logloss:0.469984+0.000584057\ttest-logloss:0.491208+0.00192911\n",
      "[180]\ttrain-logloss:0.463353+0.000645404\ttest-logloss:0.488667+0.00196442\n",
      "[210]\ttrain-logloss:0.457953+0.000743582\ttest-logloss:0.48727+0.0019124\n",
      "[240]\ttrain-logloss:0.452933+0.000742573\ttest-logloss:0.486434+0.00195799\n",
      "[270]\ttrain-logloss:0.448088+0.000728178\ttest-logloss:0.485794+0.00201204\n",
      "[300]\ttrain-logloss:0.443544+0.000816585\ttest-logloss:0.485324+0.00204885\n",
      "[330]\ttrain-logloss:0.439211+0.000924523\ttest-logloss:0.484905+0.00212323\n",
      "[360]\ttrain-logloss:0.434877+0.000997246\ttest-logloss:0.484711+0.00225496\n",
      "[390]\ttrain-logloss:0.43099+0.00089485\ttest-logloss:0.484548+0.00222739\n",
      "[420]\ttrain-logloss:0.426922+0.00100573\ttest-logloss:0.484445+0.00219221\n",
      "[450]\ttrain-logloss:0.422969+0.0011956\ttest-logloss:0.484322+0.00218773\n",
      "[480]\ttrain-logloss:0.419156+0.00123106\ttest-logloss:0.484208+0.00213454\n",
      "Log loss: 0.475835528177\n",
      "Accuracy: 0.775695538058\n",
      "Area under ROC curve 0.753182134266\n",
      "Small -  328  features ['v10', 'v12', 'v14', 'v21', 'v34', 'v38', 'v40', 'v50', 'v62', 'v72', 'v114', 'v129', 'v3_B', 'v3_C', 'v24_B', 'v24_C', 'v24_D', 'v24_E', 'v30_B', 'v30_C', 'v30_D', 'v30_E', 'v30_F', 'v30_G', 'v31_B', 'v31_C', 'v47_B', 'v47_C', 'v47_D', 'v47_E', 'v47_F', 'v47_G', 'v47_I', 'v47_J', 'v52_B', 'v52_C', 'v52_D', 'v52_E', 'v52_F', 'v52_G', 'v52_H', 'v52_I', 'v52_J', 'v52_K', 'v52_L', 'v56_AA', 'v56_AC', 'v56_AD', 'v56_AE', 'v56_AF', 'v56_AG', 'v56_AH', 'v56_AI', 'v56_AJ', 'v56_AL', 'v56_AM', 'v56_AN', 'v56_AO', 'v56_AQ', 'v56_AR', 'v56_AS', 'v56_AU', 'v56_AV', 'v56_AW', 'v56_AY', 'v56_AZ', 'v56_B', 'v56_BA', 'v56_BB', 'v56_BD', 'v56_BE', 'v56_BF', 'v56_BG', 'v56_BH', 'v56_BI', 'v56_BJ', 'v56_BK', 'v56_BL', 'v56_BM', 'v56_BN', 'v56_BO', 'v56_BP', 'v56_BQ', 'v56_BR', 'v56_BS', 'v56_BT', 'v56_BU', 'v56_BV', 'v56_BW', 'v56_BX', 'v56_BY', 'v56_BZ', 'v56_C', 'v56_CA', 'v56_CB', 'v56_CC', 'v56_CD', 'v56_CF', 'v56_CG', 'v56_CH', 'v56_CI', 'v56_CJ', 'v56_CL', 'v56_CM', 'v56_CN', 'v56_CO', 'v56_CP', 'v56_CQ', 'v56_CR', 'v56_CS', 'v56_CT', 'v56_CV', 'v56_CW', 'v56_CX', 'v56_CY', 'v56_D', 'v56_DA', 'v56_DD', 'v56_DE', 'v56_DF', 'v56_DG', 'v56_DH', 'v56_DI', 'v56_DJ', 'v56_DK', 'v56_DL', 'v56_DM', 'v56_DN', 'v56_DO', 'v56_DP', 'v56_DQ', 'v56_DR', 'v56_DS', 'v56_DT', 'v56_DV', 'v56_DW', 'v56_DX', 'v56_DY', 'v56_DZ', 'v56_E', 'v56_F', 'v56_G', 'v56_H', 'v56_I', 'v56_J', 'v56_L', 'v56_N', 'v56_O', 'v56_P', 'v56_Q', 'v56_T', 'v56_U', 'v56_V', 'v56_W', 'v56_X', 'v56_Y', 'v56_Z', 'v66_B', 'v66_C', 'v71_C', 'v71_D', 'v71_F', 'v71_L', 'v74_B', 'v74_C', 'v75_B', 'v75_C', 'v75_D', 'v79_B', 'v79_C', 'v79_D', 'v79_E', 'v79_F', 'v79_G', 'v79_H', 'v79_I', 'v79_J', 'v79_K', 'v79_L', 'v79_M', 'v79_N', 'v79_O', 'v79_P', 'v79_Q', 'v79_R', 'v91_B', 'v91_C', 'v91_D', 'v91_E', 'v91_F', 'v91_G', 'v107_B', 'v107_C', 'v107_D', 'v107_E', 'v107_F', 'v107_G', 'v110_B', 'v110_C', 'v112_B', 'v112_C', 'v112_D', 'v112_E', 'v112_F', 'v112_G', 'v112_H', 'v112_I', 'v112_J', 'v112_K', 'v112_L', 'v112_M', 'v112_N', 'v112_O', 'v112_P', 'v112_Q', 'v112_R', 'v112_S', 'v112_T', 'v112_U', 'v112_V', 'v113_AA', 'v113_AC', 'v113_AE', 'v113_AF', 'v113_AG', 'v113_AH', 'v113_AI', 'v113_AJ', 'v113_AK', 'v113_B', 'v113_C', 'v113_D', 'v113_E', 'v113_F', 'v113_G', 'v113_H', 'v113_I', 'v113_J', 'v113_K', 'v113_L', 'v113_M', 'v113_N', 'v113_O', 'v113_P', 'v113_Q', 'v113_R', 'v113_S', 'v113_T', 'v113_U', 'v113_V', 'v113_W', 'v113_X', 'v113_Y', 'v125_AA', 'v125_AB', 'v125_AC', 'v125_AD', 'v125_AE', 'v125_AF', 'v125_AG', 'v125_AH', 'v125_AJ', 'v125_AK', 'v125_AL', 'v125_AN', 'v125_AO', 'v125_AP', 'v125_AQ', 'v125_AR', 'v125_AT', 'v125_AU', 'v125_AV', 'v125_AW', 'v125_AX', 'v125_AZ', 'v125_B', 'v125_BB', 'v125_BD', 'v125_BE', 'v125_BF', 'v125_BG', 'v125_BJ', 'v125_BK', 'v125_BL', 'v125_BM', 'v125_BN', 'v125_BO', 'v125_BQ', 'v125_BR', 'v125_BU', 'v125_BV', 'v125_BW', 'v125_BX', 'v125_BY', 'v125_BZ', 'v125_C', 'v125_CA', 'v125_CB', 'v125_CD', 'v125_CF', 'v125_CG', 'v125_CH', 'v125_CI', 'v125_CJ', 'v125_CK', 'v125_CL', 'v125_D', 'v125_E', 'v125_F', 'v125_G', 'v125_H', 'v125_J', 'v125_K', 'v125_L', 'v125_M', 'v125_N', 'v125_O', 'v125_P', 'v125_Q', 'v125_R', 'v125_S', 'v125_T', 'v125_U', 'v125_V', 'v125_W', 'v125_X', 'v125_Y', 'v125_Z']\n",
      "Large -  432  features ['v1', 'v2', 'v4', 'v5', 'v6', 'v7', 'v8', 'v9', 'v10', 'v11', 'v12', 'v13', 'v14', 'v15', 'v16', 'v17', 'v18', 'v19', 'v20', 'v21', 'v23', 'v25', 'v26', 'v27', 'v28', 'v29', 'v32', 'v33', 'v34', 'v35', 'v36', 'v37', 'v38', 'v39', 'v40', 'v41', 'v42', 'v43', 'v44', 'v45', 'v46', 'v48', 'v49', 'v50', 'v51', 'v53', 'v54', 'v55', 'v57', 'v58', 'v59', 'v60', 'v61', 'v62', 'v63', 'v64', 'v65', 'v67', 'v68', 'v69', 'v70', 'v72', 'v73', 'v76', 'v77', 'v78', 'v80', 'v81', 'v82', 'v83', 'v84', 'v85', 'v86', 'v87', 'v88', 'v89', 'v90', 'v92', 'v93', 'v94', 'v95', 'v96', 'v97', 'v98', 'v99', 'v100', 'v101', 'v102', 'v103', 'v104', 'v105', 'v106', 'v108', 'v109', 'v111', 'v114', 'v115', 'v116', 'v117', 'v118', 'v119', 'v120', 'v121', 'v122', 'v123', 'v124', 'v126', 'v127', 'v128', 'v129', 'v130', 'v131', 'v3_B', 'v3_C', 'v24_B', 'v24_C', 'v24_D', 'v24_E', 'v30_B', 'v30_C', 'v30_D', 'v30_E', 'v30_F', 'v30_G', 'v31_B', 'v31_C', 'v47_B', 'v47_C', 'v47_D', 'v47_E', 'v47_F', 'v47_G', 'v47_I', 'v47_J', 'v52_B', 'v52_C', 'v52_D', 'v52_E', 'v52_F', 'v52_G', 'v52_H', 'v52_I', 'v52_J', 'v52_K', 'v52_L', 'v56_AA', 'v56_AB', 'v56_AC', 'v56_AF', 'v56_AG', 'v56_AH', 'v56_AI', 'v56_AJ', 'v56_AK', 'v56_AL', 'v56_AM', 'v56_AN', 'v56_AO', 'v56_AP', 'v56_AR', 'v56_AS', 'v56_AT', 'v56_AU', 'v56_AV', 'v56_AW', 'v56_AY', 'v56_AZ', 'v56_B', 'v56_BA', 'v56_BC', 'v56_BD', 'v56_BE', 'v56_BF', 'v56_BG', 'v56_BH', 'v56_BI', 'v56_BJ', 'v56_BK', 'v56_BL', 'v56_BN', 'v56_BO', 'v56_BP', 'v56_BQ', 'v56_BR', 'v56_BS', 'v56_BT', 'v56_BU', 'v56_BV', 'v56_BW', 'v56_BX', 'v56_BY', 'v56_BZ', 'v56_C', 'v56_CA', 'v56_CB', 'v56_CC', 'v56_CD', 'v56_CE', 'v56_CF', 'v56_CH', 'v56_CI', 'v56_CJ', 'v56_CK', 'v56_CL', 'v56_CM', 'v56_CN', 'v56_CO', 'v56_CP', 'v56_CQ', 'v56_CS', 'v56_CT', 'v56_CU', 'v56_CV', 'v56_CW', 'v56_CX', 'v56_CY', 'v56_CZ', 'v56_D', 'v56_DA', 'v56_DB', 'v56_DC', 'v56_DD', 'v56_DE', 'v56_DF', 'v56_DG', 'v56_DH', 'v56_DI', 'v56_DJ', 'v56_DK', 'v56_DL', 'v56_DM', 'v56_DN', 'v56_DO', 'v56_DP', 'v56_DQ', 'v56_DR', 'v56_DS', 'v56_DT', 'v56_DU', 'v56_DV', 'v56_DW', 'v56_DX', 'v56_DY', 'v56_DZ', 'v56_E', 'v56_F', 'v56_G', 'v56_H', 'v56_K', 'v56_M', 'v56_N', 'v56_O', 'v56_P', 'v56_Q', 'v56_R', 'v56_S', 'v56_T', 'v56_U', 'v56_V', 'v56_W', 'v56_Y', 'v56_Z', 'v66_B', 'v66_C', 'v71_B', 'v71_C', 'v71_E', 'v71_F', 'v71_H', 'v71_I', 'v71_J', 'v71_K', 'v71_L', 'v74_B', 'v74_C', 'v75_B', 'v75_C', 'v75_D', 'v79_B', 'v79_C', 'v79_D', 'v79_E', 'v79_F', 'v79_G', 'v79_H', 'v79_I', 'v79_J', 'v79_K', 'v79_M', 'v79_N', 'v79_O', 'v79_P', 'v79_Q', 'v79_R', 'v91_B', 'v91_C', 'v91_D', 'v91_E', 'v91_F', 'v91_G', 'v107_B', 'v107_C', 'v107_D', 'v107_E', 'v107_F', 'v107_G', 'v110_B', 'v110_C', 'v112_B', 'v112_C', 'v112_D', 'v112_E', 'v112_F', 'v112_G', 'v112_H', 'v112_I', 'v112_J', 'v112_K', 'v112_L', 'v112_N', 'v112_O', 'v112_P', 'v112_Q', 'v112_R', 'v112_S', 'v112_T', 'v112_U', 'v113_AA', 'v113_AB', 'v113_AC', 'v113_AD', 'v113_AE', 'v113_AF', 'v113_AG', 'v113_AH', 'v113_AJ', 'v113_B', 'v113_C', 'v113_D', 'v113_E', 'v113_F', 'v113_G', 'v113_H', 'v113_I', 'v113_J', 'v113_M', 'v113_O', 'v113_P', 'v113_Q', 'v113_R', 'v113_U', 'v113_V', 'v113_W', 'v113_X', 'v113_Y', 'v113_Z', 'v125_AA', 'v125_AB', 'v125_AC', 'v125_AD', 'v125_AE', 'v125_AF', 'v125_AH', 'v125_AI', 'v125_AJ', 'v125_AK', 'v125_AM', 'v125_AO', 'v125_AP', 'v125_AQ', 'v125_AR', 'v125_AS', 'v125_AU', 'v125_AV', 'v125_AX', 'v125_AY', 'v125_B', 'v125_BA', 'v125_BB', 'v125_BD', 'v125_BE', 'v125_BG', 'v125_BI', 'v125_BJ', 'v125_BK', 'v125_BM', 'v125_BN', 'v125_BO', 'v125_BP', 'v125_BQ', 'v125_BR', 'v125_BS', 'v125_BT', 'v125_BU', 'v125_BV', 'v125_BW', 'v125_BX', 'v125_BY', 'v125_C', 'v125_CB', 'v125_CD', 'v125_CE', 'v125_CF', 'v125_CG', 'v125_CH', 'v125_CI', 'v125_CJ', 'v125_CK', 'v125_CL', 'v125_D', 'v125_E', 'v125_F', 'v125_G', 'v125_H', 'v125_I', 'v125_J', 'v125_K', 'v125_L', 'v125_M', 'v125_N', 'v125_O', 'v125_P', 'v125_Q', 'v125_R', 'v125_S', 'v125_T', 'v125_U', 'v125_V', 'v125_W', 'v125_X', 'v125_Y', 'v125_Z']\n",
      "308  features\n",
      "(33312, 309)\n",
      "(14276, 309)\n",
      "[0]\ttrain-logloss:0.687927+2.35168e-05\ttest-logloss:0.687983+5.00496e-05\n",
      "[30]\ttrain-logloss:0.566898+0.00062001\ttest-logloss:0.569475+0.0013686\n",
      "[60]\ttrain-logloss:0.504993+0.000434774\ttest-logloss:0.509942+0.00197451\n",
      "[90]\ttrain-logloss:0.474992+0.00110792\ttest-logloss:0.482345+0.00191919\n",
      "[120]\ttrain-logloss:0.459582+0.000830994\ttest-logloss:0.469375+0.00217963\n",
      "[150]\ttrain-logloss:0.450262+0.000929495\ttest-logloss:0.46246+0.00256939\n",
      "[180]\ttrain-logloss:0.444145+0.000762252\ttest-logloss:0.458706+0.00285919\n",
      "[210]\ttrain-logloss:0.439616+0.00085291\ttest-logloss:0.456406+0.00283017\n",
      "[240]\ttrain-logloss:0.436265+0.000915615\ttest-logloss:0.455094+0.00290648\n",
      "[270]\ttrain-logloss:0.433396+0.000895021\ttest-logloss:0.454185+0.00309249\n",
      "[300]\ttrain-logloss:0.430905+0.000978622\ttest-logloss:0.453466+0.00314331\n",
      "[330]\ttrain-logloss:0.428753+0.00103967\ttest-logloss:0.45306+0.00315226\n",
      "[360]\ttrain-logloss:0.426636+0.00111789\ttest-logloss:0.452652+0.00319098\n",
      "[390]\ttrain-logloss:0.424807+0.00115893\ttest-logloss:0.45229+0.00320841\n",
      "[420]\ttrain-logloss:0.42302+0.00109718\ttest-logloss:0.452041+0.0032233\n",
      "[450]\ttrain-logloss:0.42125+0.00114527\ttest-logloss:0.451835+0.00326492\n",
      "[480]\ttrain-logloss:0.419602+0.0011025\ttest-logloss:0.451692+0.00329708\n",
      "Log loss: 0.451708082371\n",
      "Accuracy: 0.79279910339\n",
      "Area under ROC curve 0.765272537964\n",
      "412  features\n",
      "(44449, 413)\n",
      "(19050, 413)\n",
      "[0]\ttrain-logloss:0.687866+2.40117e-05\ttest-logloss:0.688003+4.01577e-05\n",
      "[30]\ttrain-logloss:0.573738+0.000485134\ttest-logloss:0.578238+0.00073496\n",
      "[60]\ttrain-logloss:0.517646+0.000426452\ttest-logloss:0.526299+0.00139179\n",
      "[90]\ttrain-logloss:0.490484+0.000540451\ttest-logloss:0.5032+0.00204139\n",
      "[120]\ttrain-logloss:0.476041+0.000660274\ttest-logloss:0.492873+0.00240274\n",
      "[150]\ttrain-logloss:0.466965+0.000675398\ttest-logloss:0.487945+0.00268623\n",
      "[180]\ttrain-logloss:0.460447+0.000677068\ttest-logloss:0.48536+0.00300577\n",
      "[210]\ttrain-logloss:0.45502+0.000576691\ttest-logloss:0.48399+0.00313515\n",
      "[240]\ttrain-logloss:0.449907+0.00063021\ttest-logloss:0.483076+0.00330952\n",
      "[270]\ttrain-logloss:0.445338+0.000817667\ttest-logloss:0.482429+0.00343947\n",
      "[300]\ttrain-logloss:0.440966+0.000758796\ttest-logloss:0.481967+0.00339026\n",
      "[330]\ttrain-logloss:0.436686+0.000817235\ttest-logloss:0.481583+0.00345805\n",
      "[360]\ttrain-logloss:0.432561+0.000816064\ttest-logloss:0.481335+0.00348963\n",
      "[390]\ttrain-logloss:0.428407+0.000885607\ttest-logloss:0.481114+0.00351818\n",
      "[420]\ttrain-logloss:0.424375+0.000822505\ttest-logloss:0.480956+0.00362032\n",
      "[450]\ttrain-logloss:0.420472+0.000837127\ttest-logloss:0.480768+0.00362955\n",
      "[480]\ttrain-logloss:0.416627+0.000934265\ttest-logloss:0.48063+0.00356899\n",
      "Log loss: 0.483241278842\n",
      "Accuracy: 0.769606299213\n",
      "Area under ROC curve 0.744298194277\n",
      "Small -  308  features ['v10', 'v12', 'v14', 'v21', 'v34', 'v38', 'v40', 'v50', 'v62', 'v72', 'v114', 'v129', 'v3_B', 'v3_C', 'v24_B', 'v24_C', 'v24_D', 'v24_E', 'v30_B', 'v30_C', 'v30_D', 'v30_E', 'v30_F', 'v30_G', 'v31_B', 'v31_C', 'v47_B', 'v47_C', 'v47_D', 'v47_E', 'v47_F', 'v47_G', 'v47_I', 'v47_J', 'v52_B', 'v52_C', 'v52_D', 'v52_E', 'v52_F', 'v52_G', 'v52_H', 'v52_I', 'v52_J', 'v52_K', 'v52_L', 'v56_AC', 'v56_AD', 'v56_AE', 'v56_AF', 'v56_AG', 'v56_AH', 'v56_AI', 'v56_AJ', 'v56_AL', 'v56_AM', 'v56_AO', 'v56_AQ', 'v56_AR', 'v56_AS', 'v56_AU', 'v56_AV', 'v56_AW', 'v56_AY', 'v56_AZ', 'v56_B', 'v56_BB', 'v56_BD', 'v56_BE', 'v56_BF', 'v56_BG', 'v56_BH', 'v56_BI', 'v56_BJ', 'v56_BK', 'v56_BL', 'v56_BM', 'v56_BN', 'v56_BO', 'v56_BP', 'v56_BQ', 'v56_BR', 'v56_BS', 'v56_BT', 'v56_BU', 'v56_BV', 'v56_BW', 'v56_BX', 'v56_BY', 'v56_BZ', 'v56_C', 'v56_CB', 'v56_CC', 'v56_CD', 'v56_CG', 'v56_CI', 'v56_CJ', 'v56_CL', 'v56_CM', 'v56_CN', 'v56_CO', 'v56_CP', 'v56_CQ', 'v56_CR', 'v56_CT', 'v56_CV', 'v56_CW', 'v56_CX', 'v56_CY', 'v56_D', 'v56_DA', 'v56_DD', 'v56_DE', 'v56_DF', 'v56_DG', 'v56_DH', 'v56_DI', 'v56_DJ', 'v56_DK', 'v56_DL', 'v56_DM', 'v56_DN', 'v56_DO', 'v56_DP', 'v56_DQ', 'v56_DR', 'v56_DT', 'v56_DV', 'v56_DW', 'v56_DX', 'v56_DY', 'v56_DZ', 'v56_E', 'v56_F', 'v56_G', 'v56_H', 'v56_I', 'v56_J', 'v56_L', 'v56_N', 'v56_O', 'v56_P', 'v56_Q', 'v56_T', 'v56_U', 'v56_V', 'v56_W', 'v56_X', 'v56_Y', 'v56_Z', 'v66_B', 'v66_C', 'v71_C', 'v71_D', 'v71_F', 'v71_L', 'v74_B', 'v74_C', 'v75_B', 'v75_C', 'v75_D', 'v79_B', 'v79_C', 'v79_D', 'v79_E', 'v79_F', 'v79_G', 'v79_H', 'v79_I', 'v79_J', 'v79_K', 'v79_L', 'v79_M', 'v79_N', 'v79_O', 'v79_P', 'v79_Q', 'v79_R', 'v91_B', 'v91_C', 'v91_D', 'v91_E', 'v91_F', 'v91_G', 'v107_B', 'v107_C', 'v107_D', 'v107_E', 'v107_F', 'v110_B', 'v110_C', 'v112_B', 'v112_C', 'v112_D', 'v112_E', 'v112_F', 'v112_G', 'v112_H', 'v112_I', 'v112_J', 'v112_K', 'v112_L', 'v112_M', 'v112_N', 'v112_O', 'v112_P', 'v112_Q', 'v112_R', 'v112_T', 'v112_U', 'v112_V', 'v113_AA', 'v113_AC', 'v113_AE', 'v113_AF', 'v113_AG', 'v113_AH', 'v113_AI', 'v113_AJ', 'v113_AK', 'v113_B', 'v113_C', 'v113_E', 'v113_F', 'v113_G', 'v113_H', 'v113_I', 'v113_K', 'v113_L', 'v113_M', 'v113_N', 'v113_O', 'v113_P', 'v113_Q', 'v113_R', 'v113_S', 'v113_T', 'v113_V', 'v113_W', 'v113_X', 'v125_AA', 'v125_AB', 'v125_AC', 'v125_AD', 'v125_AF', 'v125_AG', 'v125_AH', 'v125_AJ', 'v125_AK', 'v125_AL', 'v125_AN', 'v125_AO', 'v125_AP', 'v125_AQ', 'v125_AR', 'v125_AT', 'v125_AU', 'v125_AV', 'v125_AW', 'v125_AX', 'v125_AZ', 'v125_B', 'v125_BB', 'v125_BD', 'v125_BE', 'v125_BG', 'v125_BJ', 'v125_BK', 'v125_BL', 'v125_BM', 'v125_BN', 'v125_BO', 'v125_BQ', 'v125_BR', 'v125_BU', 'v125_BV', 'v125_BW', 'v125_BX', 'v125_BY', 'v125_BZ', 'v125_C', 'v125_CA', 'v125_CB', 'v125_CD', 'v125_CF', 'v125_CG', 'v125_CH', 'v125_CJ', 'v125_CK', 'v125_CL', 'v125_D', 'v125_E', 'v125_F', 'v125_G', 'v125_H', 'v125_J', 'v125_K', 'v125_L', 'v125_M', 'v125_O', 'v125_P', 'v125_Q', 'v125_S', 'v125_T', 'v125_U', 'v125_V', 'v125_X', 'v125_Y', 'v125_Z']\n",
      "Large -  412  features ['v1', 'v2', 'v4', 'v5', 'v6', 'v7', 'v8', 'v9', 'v10', 'v11', 'v12', 'v13', 'v14', 'v15', 'v16', 'v17', 'v18', 'v19', 'v20', 'v21', 'v23', 'v25', 'v26', 'v27', 'v28', 'v29', 'v32', 'v33', 'v34', 'v35', 'v36', 'v37', 'v38', 'v39', 'v40', 'v41', 'v42', 'v43', 'v44', 'v45', 'v46', 'v48', 'v49', 'v50', 'v51', 'v53', 'v54', 'v55', 'v57', 'v58', 'v59', 'v60', 'v61', 'v62', 'v63', 'v64', 'v65', 'v67', 'v68', 'v69', 'v70', 'v72', 'v73', 'v76', 'v77', 'v78', 'v80', 'v81', 'v82', 'v83', 'v84', 'v85', 'v86', 'v87', 'v88', 'v89', 'v90', 'v92', 'v93', 'v94', 'v95', 'v96', 'v97', 'v98', 'v99', 'v100', 'v101', 'v102', 'v103', 'v104', 'v105', 'v106', 'v108', 'v109', 'v111', 'v114', 'v115', 'v116', 'v117', 'v118', 'v119', 'v120', 'v121', 'v122', 'v123', 'v124', 'v126', 'v127', 'v128', 'v129', 'v130', 'v131', 'v3_B', 'v3_C', 'v24_B', 'v24_C', 'v24_D', 'v24_E', 'v30_B', 'v30_C', 'v30_D', 'v30_E', 'v30_F', 'v30_G', 'v31_B', 'v31_C', 'v47_B', 'v47_C', 'v47_D', 'v47_E', 'v47_F', 'v47_G', 'v47_I', 'v47_J', 'v52_B', 'v52_C', 'v52_D', 'v52_E', 'v52_F', 'v52_G', 'v52_H', 'v52_I', 'v52_J', 'v52_K', 'v52_L', 'v56_AA', 'v56_AB', 'v56_AC', 'v56_AF', 'v56_AG', 'v56_AH', 'v56_AI', 'v56_AJ', 'v56_AK', 'v56_AL', 'v56_AM', 'v56_AN', 'v56_AO', 'v56_AP', 'v56_AR', 'v56_AS', 'v56_AT', 'v56_AU', 'v56_AV', 'v56_AW', 'v56_AY', 'v56_AZ', 'v56_B', 'v56_BA', 'v56_BC', 'v56_BD', 'v56_BE', 'v56_BF', 'v56_BG', 'v56_BH', 'v56_BI', 'v56_BJ', 'v56_BK', 'v56_BL', 'v56_BN', 'v56_BO', 'v56_BP', 'v56_BQ', 'v56_BR', 'v56_BS', 'v56_BT', 'v56_BU', 'v56_BV', 'v56_BW', 'v56_BX', 'v56_BY', 'v56_BZ', 'v56_C', 'v56_CA', 'v56_CB', 'v56_CC', 'v56_CD', 'v56_CE', 'v56_CF', 'v56_CH', 'v56_CI', 'v56_CJ', 'v56_CK', 'v56_CL', 'v56_CM', 'v56_CN', 'v56_CO', 'v56_CP', 'v56_CQ', 'v56_CS', 'v56_CT', 'v56_CU', 'v56_CV', 'v56_CW', 'v56_CX', 'v56_CY', 'v56_CZ', 'v56_D', 'v56_DA', 'v56_DB', 'v56_DC', 'v56_DD', 'v56_DE', 'v56_DF', 'v56_DG', 'v56_DI', 'v56_DJ', 'v56_DL', 'v56_DM', 'v56_DN', 'v56_DO', 'v56_DP', 'v56_DQ', 'v56_DR', 'v56_DS', 'v56_DT', 'v56_DU', 'v56_DV', 'v56_DW', 'v56_DX', 'v56_DY', 'v56_DZ', 'v56_E', 'v56_F', 'v56_G', 'v56_H', 'v56_K', 'v56_M', 'v56_N', 'v56_O', 'v56_P', 'v56_Q', 'v56_R', 'v56_S', 'v56_T', 'v56_U', 'v56_V', 'v56_W', 'v56_Y', 'v56_Z', 'v66_B', 'v66_C', 'v71_B', 'v71_C', 'v71_E', 'v71_F', 'v71_H', 'v71_I', 'v71_J', 'v71_K', 'v71_L', 'v74_B', 'v74_C', 'v75_B', 'v75_C', 'v75_D', 'v79_B', 'v79_C', 'v79_D', 'v79_E', 'v79_F', 'v79_G', 'v79_H', 'v79_I', 'v79_J', 'v79_K', 'v79_M', 'v79_N', 'v79_O', 'v79_P', 'v79_Q', 'v79_R', 'v91_B', 'v91_C', 'v91_D', 'v91_E', 'v91_F', 'v91_G', 'v107_B', 'v107_C', 'v107_D', 'v107_E', 'v107_F', 'v107_G', 'v110_B', 'v110_C', 'v112_B', 'v112_C', 'v112_D', 'v112_E', 'v112_F', 'v112_H', 'v112_I', 'v112_J', 'v112_K', 'v112_L', 'v112_N', 'v112_O', 'v112_P', 'v112_Q', 'v112_R', 'v112_S', 'v112_U', 'v113_AA', 'v113_AB', 'v113_AC', 'v113_AD', 'v113_AE', 'v113_AF', 'v113_AG', 'v113_AH', 'v113_AJ', 'v113_B', 'v113_C', 'v113_E', 'v113_F', 'v113_G', 'v113_H', 'v113_I', 'v113_J', 'v113_M', 'v113_O', 'v113_P', 'v113_Q', 'v113_R', 'v113_U', 'v113_W', 'v113_Y', 'v113_Z', 'v125_AA', 'v125_AB', 'v125_AC', 'v125_AD', 'v125_AE', 'v125_AF', 'v125_AH', 'v125_AJ', 'v125_AK', 'v125_AP', 'v125_AQ', 'v125_AR', 'v125_AS', 'v125_AU', 'v125_AV', 'v125_AX', 'v125_AY', 'v125_BB', 'v125_BD', 'v125_BG', 'v125_BJ', 'v125_BK', 'v125_BM', 'v125_BN', 'v125_BO', 'v125_BP', 'v125_BQ', 'v125_BR', 'v125_BS', 'v125_BT', 'v125_BV', 'v125_BW', 'v125_BX', 'v125_BY', 'v125_C', 'v125_CD', 'v125_CE', 'v125_CF', 'v125_CG', 'v125_CH', 'v125_CI', 'v125_CJ', 'v125_CK', 'v125_CL', 'v125_D', 'v125_E', 'v125_F', 'v125_G', 'v125_H', 'v125_I', 'v125_J', 'v125_L', 'v125_N', 'v125_O', 'v125_P', 'v125_Q', 'v125_S', 'v125_T', 'v125_U', 'v125_V', 'v125_X', 'v125_Y', 'v125_Z']\n",
      "288  features\n",
      "(33312, 289)\n",
      "(14276, 289)\n",
      "[0]\ttrain-logloss:0.687813+2.07808e-05\ttest-logloss:0.687882+9.08308e-05\n",
      "[30]\ttrain-logloss:0.567094+0.00136335\ttest-logloss:0.569797+0.00127433\n",
      "[60]\ttrain-logloss:0.505839+0.00220581\ttest-logloss:0.511039+0.00200252\n",
      "[90]\ttrain-logloss:0.476984+0.00192459\ttest-logloss:0.484593+0.00189697\n",
      "[120]\ttrain-logloss:0.461635+0.00166287\ttest-logloss:0.471798+0.00168756\n",
      "[150]\ttrain-logloss:0.452563+0.00106025\ttest-logloss:0.465138+0.00162245\n",
      "[180]\ttrain-logloss:0.446312+0.000821631\ttest-logloss:0.461219+0.00154463\n",
      "[210]\ttrain-logloss:0.441771+0.00069285\ttest-logloss:0.458981+0.00154262\n",
      "[240]\ttrain-logloss:0.438195+0.000643542\ttest-logloss:0.457597+0.00155946\n",
      "[270]\ttrain-logloss:0.435359+0.000751121\ttest-logloss:0.456581+0.00149573\n",
      "[300]\ttrain-logloss:0.432892+0.000749753\ttest-logloss:0.455911+0.00153487\n",
      "[330]\ttrain-logloss:0.430677+0.000793264\ttest-logloss:0.455437+0.00147829\n",
      "[360]\ttrain-logloss:0.428791+0.000779448\ttest-logloss:0.455067+0.00154895\n",
      "[390]\ttrain-logloss:0.426893+0.000744612\ttest-logloss:0.454835+0.0015531\n",
      "[420]\ttrain-logloss:0.425169+0.000769948\ttest-logloss:0.454558+0.00160007\n",
      "[450]\ttrain-logloss:0.423403+0.000777681\ttest-logloss:0.454356+0.00161161\n",
      "[480]\ttrain-logloss:0.421757+0.000785887\ttest-logloss:0.454228+0.00163933\n",
      "Log loss: 0.445006117821\n",
      "Accuracy: 0.795951246848\n",
      "Area under ROC curve 0.769495204621\n",
      "392  features\n",
      "(44449, 393)\n",
      "(19050, 393)\n",
      "[0]\ttrain-logloss:0.687869+2.96176e-05\ttest-logloss:0.688025+6.7597e-05\n",
      "[30]\ttrain-logloss:0.574896+0.000418643\ttest-logloss:0.579282+0.00163941\n",
      "[60]\ttrain-logloss:0.519384+0.000853369\ttest-logloss:0.527761+0.00223473\n",
      "[90]\ttrain-logloss:0.492372+0.00092729\ttest-logloss:0.504994+0.00281486\n",
      "[120]\ttrain-logloss:0.477835+0.000941136\ttest-logloss:0.494849+0.00322903\n",
      "[150]\ttrain-logloss:0.468727+0.000965787\ttest-logloss:0.489921+0.00346518\n",
      "[180]\ttrain-logloss:0.461986+0.000967794\ttest-logloss:0.487372+0.00364671\n",
      "[210]\ttrain-logloss:0.456388+0.000895032\ttest-logloss:0.485974+0.00390718\n",
      "[240]\ttrain-logloss:0.451282+0.000894449\ttest-logloss:0.485003+0.00387336\n",
      "[270]\ttrain-logloss:0.446737+0.000980461\ttest-logloss:0.484277+0.00396821\n",
      "[300]\ttrain-logloss:0.44217+0.000943128\ttest-logloss:0.483884+0.00397707\n",
      "[330]\ttrain-logloss:0.437727+0.000834952\ttest-logloss:0.48352+0.00401262\n",
      "[360]\ttrain-logloss:0.433657+0.000997068\ttest-logloss:0.483215+0.00395484\n",
      "[390]\ttrain-logloss:0.429556+0.000979405\ttest-logloss:0.482931+0.00394043\n",
      "[420]\ttrain-logloss:0.425624+0.000933249\ttest-logloss:0.482743+0.00392065\n",
      "[450]\ttrain-logloss:0.421723+0.000932411\ttest-logloss:0.4826+0.00393616\n",
      "[480]\ttrain-logloss:0.41786+0.00103126\ttest-logloss:0.482399+0.00397943\n",
      "Log loss: 0.478378328558\n",
      "Accuracy: 0.773648293963\n",
      "Area under ROC curve 0.748408983435\n",
      "Small -  288  features ['v10', 'v12', 'v14', 'v21', 'v34', 'v38', 'v40', 'v50', 'v62', 'v72', 'v114', 'v129', 'v3_B', 'v3_C', 'v24_B', 'v24_C', 'v24_D', 'v24_E', 'v30_B', 'v30_C', 'v30_D', 'v30_E', 'v30_F', 'v30_G', 'v31_B', 'v31_C', 'v47_B', 'v47_C', 'v47_D', 'v47_E', 'v47_F', 'v47_G', 'v47_I', 'v47_J', 'v52_B', 'v52_C', 'v52_D', 'v52_E', 'v52_F', 'v52_G', 'v52_H', 'v52_I', 'v52_J', 'v52_K', 'v52_L', 'v56_AC', 'v56_AD', 'v56_AE', 'v56_AF', 'v56_AG', 'v56_AI', 'v56_AJ', 'v56_AL', 'v56_AM', 'v56_AQ', 'v56_AR', 'v56_AS', 'v56_AU', 'v56_AV', 'v56_AW', 'v56_AY', 'v56_AZ', 'v56_B', 'v56_BB', 'v56_BD', 'v56_BE', 'v56_BF', 'v56_BH', 'v56_BI', 'v56_BJ', 'v56_BK', 'v56_BL', 'v56_BM', 'v56_BN', 'v56_BO', 'v56_BP', 'v56_BQ', 'v56_BR', 'v56_BS', 'v56_BT', 'v56_BU', 'v56_BV', 'v56_BW', 'v56_BX', 'v56_BZ', 'v56_C', 'v56_CB', 'v56_CD', 'v56_CG', 'v56_CI', 'v56_CJ', 'v56_CL', 'v56_CM', 'v56_CN', 'v56_CO', 'v56_CP', 'v56_CQ', 'v56_CR', 'v56_CT', 'v56_CV', 'v56_CW', 'v56_CX', 'v56_CY', 'v56_D', 'v56_DD', 'v56_DE', 'v56_DF', 'v56_DG', 'v56_DH', 'v56_DI', 'v56_DJ', 'v56_DK', 'v56_DL', 'v56_DM', 'v56_DO', 'v56_DP', 'v56_DQ', 'v56_DR', 'v56_DT', 'v56_DV', 'v56_DW', 'v56_DX', 'v56_DY', 'v56_DZ', 'v56_E', 'v56_F', 'v56_G', 'v56_H', 'v56_I', 'v56_J', 'v56_L', 'v56_N', 'v56_O', 'v56_P', 'v56_Q', 'v56_T', 'v56_U', 'v56_V', 'v56_W', 'v56_X', 'v66_B', 'v66_C', 'v71_C', 'v71_D', 'v71_F', 'v71_L', 'v74_B', 'v74_C', 'v75_B', 'v75_C', 'v75_D', 'v79_B', 'v79_C', 'v79_D', 'v79_E', 'v79_G', 'v79_H', 'v79_I', 'v79_J', 'v79_K', 'v79_L', 'v79_M', 'v79_N', 'v79_O', 'v79_P', 'v79_Q', 'v79_R', 'v91_B', 'v91_C', 'v91_D', 'v91_E', 'v91_F', 'v91_G', 'v107_B', 'v107_C', 'v107_D', 'v107_E', 'v107_F', 'v110_B', 'v110_C', 'v112_B', 'v112_C', 'v112_D', 'v112_E', 'v112_F', 'v112_G', 'v112_H', 'v112_I', 'v112_J', 'v112_K', 'v112_L', 'v112_M', 'v112_N', 'v112_O', 'v112_P', 'v112_Q', 'v112_R', 'v112_T', 'v112_U', 'v112_V', 'v113_AA', 'v113_AC', 'v113_AE', 'v113_AF', 'v113_AG', 'v113_AH', 'v113_AI', 'v113_AJ', 'v113_AK', 'v113_B', 'v113_C', 'v113_F', 'v113_G', 'v113_H', 'v113_I', 'v113_K', 'v113_L', 'v113_M', 'v113_N', 'v113_O', 'v113_P', 'v113_Q', 'v113_R', 'v113_S', 'v113_T', 'v113_V', 'v113_W', 'v113_X', 'v125_AA', 'v125_AB', 'v125_AC', 'v125_AD', 'v125_AF', 'v125_AG', 'v125_AJ', 'v125_AK', 'v125_AL', 'v125_AN', 'v125_AP', 'v125_AQ', 'v125_AR', 'v125_AU', 'v125_AW', 'v125_AX', 'v125_AZ', 'v125_B', 'v125_BB', 'v125_BD', 'v125_BG', 'v125_BJ', 'v125_BK', 'v125_BL', 'v125_BM', 'v125_BN', 'v125_BO', 'v125_BQ', 'v125_BV', 'v125_BW', 'v125_BX', 'v125_BY', 'v125_BZ', 'v125_C', 'v125_CA', 'v125_CB', 'v125_CF', 'v125_CG', 'v125_CH', 'v125_CJ', 'v125_CK', 'v125_CL', 'v125_D', 'v125_E', 'v125_F', 'v125_G', 'v125_H', 'v125_J', 'v125_K', 'v125_L', 'v125_M', 'v125_O', 'v125_P', 'v125_Q', 'v125_T', 'v125_U', 'v125_V', 'v125_X', 'v125_Y', 'v125_Z']\n",
      "Large -  392  features ['v1', 'v2', 'v4', 'v5', 'v6', 'v7', 'v8', 'v9', 'v10', 'v11', 'v12', 'v13', 'v14', 'v15', 'v16', 'v17', 'v18', 'v19', 'v20', 'v21', 'v23', 'v25', 'v26', 'v27', 'v28', 'v29', 'v32', 'v33', 'v34', 'v35', 'v36', 'v37', 'v38', 'v39', 'v40', 'v41', 'v42', 'v43', 'v44', 'v45', 'v46', 'v48', 'v49', 'v50', 'v51', 'v53', 'v54', 'v55', 'v57', 'v58', 'v59', 'v60', 'v61', 'v62', 'v63', 'v64', 'v65', 'v67', 'v68', 'v69', 'v70', 'v72', 'v73', 'v76', 'v77', 'v78', 'v80', 'v81', 'v82', 'v83', 'v84', 'v85', 'v86', 'v87', 'v88', 'v89', 'v90', 'v92', 'v93', 'v94', 'v95', 'v96', 'v97', 'v98', 'v99', 'v100', 'v101', 'v102', 'v103', 'v104', 'v105', 'v106', 'v108', 'v109', 'v111', 'v114', 'v115', 'v116', 'v117', 'v118', 'v119', 'v120', 'v121', 'v122', 'v123', 'v124', 'v126', 'v127', 'v128', 'v129', 'v130', 'v131', 'v3_B', 'v3_C', 'v24_B', 'v24_C', 'v24_D', 'v24_E', 'v30_B', 'v30_C', 'v30_D', 'v30_E', 'v30_F', 'v30_G', 'v31_B', 'v31_C', 'v47_B', 'v47_C', 'v47_D', 'v47_E', 'v47_F', 'v47_G', 'v47_I', 'v47_J', 'v52_B', 'v52_C', 'v52_D', 'v52_E', 'v52_F', 'v52_G', 'v52_H', 'v52_I', 'v52_J', 'v52_K', 'v52_L', 'v56_AA', 'v56_AB', 'v56_AC', 'v56_AF', 'v56_AG', 'v56_AH', 'v56_AI', 'v56_AJ', 'v56_AK', 'v56_AL', 'v56_AM', 'v56_AN', 'v56_AO', 'v56_AP', 'v56_AS', 'v56_AT', 'v56_AU', 'v56_AV', 'v56_AW', 'v56_AY', 'v56_AZ', 'v56_B', 'v56_BA', 'v56_BC', 'v56_BD', 'v56_BE', 'v56_BF', 'v56_BG', 'v56_BH', 'v56_BI', 'v56_BJ', 'v56_BK', 'v56_BL', 'v56_BN', 'v56_BO', 'v56_BP', 'v56_BQ', 'v56_BR', 'v56_BS', 'v56_BT', 'v56_BU', 'v56_BV', 'v56_BW', 'v56_BX', 'v56_BY', 'v56_BZ', 'v56_C', 'v56_CA', 'v56_CB', 'v56_CC', 'v56_CD', 'v56_CE', 'v56_CF', 'v56_CH', 'v56_CI', 'v56_CJ', 'v56_CK', 'v56_CL', 'v56_CM', 'v56_CN', 'v56_CO', 'v56_CP', 'v56_CQ', 'v56_CS', 'v56_CT', 'v56_CU', 'v56_CV', 'v56_CW', 'v56_CX', 'v56_CY', 'v56_CZ', 'v56_D', 'v56_DA', 'v56_DB', 'v56_DC', 'v56_DD', 'v56_DE', 'v56_DF', 'v56_DG', 'v56_DI', 'v56_DL', 'v56_DM', 'v56_DN', 'v56_DO', 'v56_DP', 'v56_DQ', 'v56_DR', 'v56_DS', 'v56_DT', 'v56_DU', 'v56_DV', 'v56_DW', 'v56_DX', 'v56_DY', 'v56_DZ', 'v56_E', 'v56_F', 'v56_G', 'v56_H', 'v56_K', 'v56_M', 'v56_N', 'v56_O', 'v56_P', 'v56_Q', 'v56_R', 'v56_S', 'v56_T', 'v56_W', 'v56_Y', 'v56_Z', 'v66_B', 'v66_C', 'v71_B', 'v71_C', 'v71_E', 'v71_F', 'v71_H', 'v71_I', 'v71_J', 'v71_K', 'v71_L', 'v74_B', 'v75_B', 'v75_C', 'v75_D', 'v79_B', 'v79_C', 'v79_D', 'v79_E', 'v79_F', 'v79_G', 'v79_H', 'v79_I', 'v79_K', 'v79_N', 'v79_O', 'v79_P', 'v79_Q', 'v79_R', 'v91_B', 'v91_C', 'v91_D', 'v91_E', 'v91_F', 'v91_G', 'v107_B', 'v107_C', 'v107_E', 'v107_F', 'v107_G', 'v110_B', 'v110_C', 'v112_B', 'v112_C', 'v112_D', 'v112_E', 'v112_F', 'v112_H', 'v112_I', 'v112_J', 'v112_K', 'v112_L', 'v112_N', 'v112_O', 'v112_P', 'v112_Q', 'v112_R', 'v112_S', 'v112_U', 'v113_AA', 'v113_AC', 'v113_AD', 'v113_AE', 'v113_AF', 'v113_AG', 'v113_AJ', 'v113_C', 'v113_E', 'v113_F', 'v113_G', 'v113_H', 'v113_I', 'v113_J', 'v113_M', 'v113_O', 'v113_P', 'v113_Q', 'v113_R', 'v113_U', 'v113_W', 'v113_Y', 'v125_AA', 'v125_AD', 'v125_AE', 'v125_AF', 'v125_AH', 'v125_AJ', 'v125_AK', 'v125_AP', 'v125_AQ', 'v125_AR', 'v125_AS', 'v125_AU', 'v125_AV', 'v125_AX', 'v125_AY', 'v125_BB', 'v125_BD', 'v125_BG', 'v125_BJ', 'v125_BK', 'v125_BM', 'v125_BN', 'v125_BP', 'v125_BQ', 'v125_BR', 'v125_BT', 'v125_BV', 'v125_BW', 'v125_BX', 'v125_BY', 'v125_C', 'v125_CD', 'v125_CE', 'v125_CF', 'v125_CG', 'v125_CH', 'v125_CI', 'v125_CJ', 'v125_CK', 'v125_CL', 'v125_D', 'v125_E', 'v125_F', 'v125_G', 'v125_H', 'v125_I', 'v125_J', 'v125_L', 'v125_N', 'v125_O', 'v125_P', 'v125_S', 'v125_V', 'v125_Y', 'v125_Z']\n",
      "268  features\n",
      "(33312, 269)\n",
      "(14276, 269)\n",
      "[0]\ttrain-logloss:0.68787+2.44916e-05\ttest-logloss:0.687951+4.7451e-05\n",
      "[30]\ttrain-logloss:0.56642+0.000920638\ttest-logloss:0.568939+0.00215683\n",
      "[60]\ttrain-logloss:0.505151+0.0016251\ttest-logloss:0.510175+0.00334755\n",
      "[90]\ttrain-logloss:0.475495+0.000829131\ttest-logloss:0.48299+0.00433902\n",
      "[120]\ttrain-logloss:0.460184+0.00116506\ttest-logloss:0.470179+0.0047826\n",
      "[150]\ttrain-logloss:0.451017+0.00115906\ttest-logloss:0.463419+0.00534291\n",
      "[180]\ttrain-logloss:0.444928+0.00114502\ttest-logloss:0.459789+0.00561187\n",
      "[210]\ttrain-logloss:0.440524+0.00124382\ttest-logloss:0.457547+0.00591212\n",
      "[240]\ttrain-logloss:0.437014+0.00129961\ttest-logloss:0.456071+0.00598338\n",
      "[270]\ttrain-logloss:0.434115+0.00133613\ttest-logloss:0.455155+0.00607905\n",
      "[300]\ttrain-logloss:0.431528+0.00135179\ttest-logloss:0.454482+0.00614956\n",
      "[330]\ttrain-logloss:0.429226+0.00135827\ttest-logloss:0.453952+0.00616802\n",
      "[360]\ttrain-logloss:0.427168+0.00138285\ttest-logloss:0.453557+0.00629092\n",
      "[390]\ttrain-logloss:0.425202+0.00136764\ttest-logloss:0.453293+0.00633285\n",
      "[420]\ttrain-logloss:0.423372+0.00132023\ttest-logloss:0.453095+0.00642124\n",
      "[450]\ttrain-logloss:0.421676+0.00130361\ttest-logloss:0.452856+0.00647745\n",
      "[480]\ttrain-logloss:0.419919+0.00130712\ttest-logloss:0.45269+0.00644389\n",
      "Log loss: 0.449303002119\n",
      "Accuracy: 0.795320818156\n",
      "Area under ROC curve 0.767432329772\n",
      "372  features\n",
      "(44449, 373)\n",
      "(19050, 373)\n",
      "[0]\ttrain-logloss:0.687874+4.2967e-05\ttest-logloss:0.688031+8.28961e-05\n",
      "[30]\ttrain-logloss:0.57415+0.000734798\ttest-logloss:0.578619+0.00218382\n",
      "[60]\ttrain-logloss:0.517762+0.00108612\ttest-logloss:0.526256+0.00300382\n",
      "[90]\ttrain-logloss:0.490417+0.00138483\ttest-logloss:0.502996+0.00350994\n",
      "[120]\ttrain-logloss:0.475726+0.00133831\ttest-logloss:0.492529+0.00403055\n",
      "[150]\ttrain-logloss:0.466517+0.00135487\ttest-logloss:0.487446+0.00420175\n",
      "[180]\ttrain-logloss:0.459828+0.00141404\ttest-logloss:0.484759+0.00416014\n",
      "[210]\ttrain-logloss:0.454307+0.0015882\ttest-logloss:0.483326+0.00433336\n",
      "[240]\ttrain-logloss:0.449464+0.0015692\ttest-logloss:0.482319+0.00439662\n",
      "[270]\ttrain-logloss:0.444731+0.00153139\ttest-logloss:0.481581+0.00448913\n",
      "[300]\ttrain-logloss:0.440129+0.00142761\ttest-logloss:0.480952+0.00461285\n",
      "[330]\ttrain-logloss:0.435677+0.00138595\ttest-logloss:0.480459+0.00464933\n",
      "[360]\ttrain-logloss:0.431527+0.00150715\ttest-logloss:0.480194+0.00467446\n",
      "[390]\ttrain-logloss:0.427258+0.00151312\ttest-logloss:0.479902+0.00464948\n",
      "[420]\ttrain-logloss:0.423267+0.00163515\ttest-logloss:0.479671+0.00473923\n",
      "[450]\ttrain-logloss:0.419344+0.00172509\ttest-logloss:0.479414+0.00464862\n",
      "[480]\ttrain-logloss:0.41534+0.00142937\ttest-logloss:0.479186+0.00469081\n",
      "Log loss: 0.484350313713\n",
      "Accuracy: 0.768608923885\n",
      "Area under ROC curve 0.743547447689\n",
      "Small -  268  features ['v10', 'v12', 'v14', 'v21', 'v34', 'v38', 'v40', 'v50', 'v62', 'v72', 'v114', 'v129', 'v3_B', 'v3_C', 'v24_B', 'v24_C', 'v24_D', 'v24_E', 'v30_B', 'v30_C', 'v30_D', 'v30_E', 'v30_F', 'v30_G', 'v31_B', 'v31_C', 'v47_C', 'v47_D', 'v47_E', 'v47_F', 'v47_G', 'v47_I', 'v47_J', 'v52_B', 'v52_C', 'v52_D', 'v52_E', 'v52_F', 'v52_G', 'v52_H', 'v52_I', 'v52_J', 'v52_K', 'v52_L', 'v56_AC', 'v56_AD', 'v56_AE', 'v56_AF', 'v56_AG', 'v56_AJ', 'v56_AL', 'v56_AM', 'v56_AQ', 'v56_AR', 'v56_AS', 'v56_AU', 'v56_AV', 'v56_AW', 'v56_AY', 'v56_AZ', 'v56_B', 'v56_BB', 'v56_BD', 'v56_BE', 'v56_BF', 'v56_BH', 'v56_BI', 'v56_BJ', 'v56_BK', 'v56_BL', 'v56_BM', 'v56_BN', 'v56_BO', 'v56_BP', 'v56_BQ', 'v56_BR', 'v56_BS', 'v56_BT', 'v56_BU', 'v56_BV', 'v56_BW', 'v56_BX', 'v56_BZ', 'v56_C', 'v56_CB', 'v56_CD', 'v56_CG', 'v56_CI', 'v56_CJ', 'v56_CL', 'v56_CN', 'v56_CO', 'v56_CP', 'v56_CQ', 'v56_CR', 'v56_CT', 'v56_CV', 'v56_CW', 'v56_CX', 'v56_CY', 'v56_D', 'v56_DD', 'v56_DE', 'v56_DF', 'v56_DG', 'v56_DH', 'v56_DI', 'v56_DJ', 'v56_DK', 'v56_DL', 'v56_DM', 'v56_DO', 'v56_DP', 'v56_DQ', 'v56_DR', 'v56_DT', 'v56_DV', 'v56_DW', 'v56_DX', 'v56_DY', 'v56_E', 'v56_F', 'v56_G', 'v56_H', 'v56_I', 'v56_J', 'v56_L', 'v56_N', 'v56_O', 'v56_P', 'v56_Q', 'v56_T', 'v56_U', 'v56_V', 'v56_W', 'v56_X', 'v66_B', 'v66_C', 'v71_C', 'v71_D', 'v71_F', 'v71_L', 'v74_B', 'v74_C', 'v75_B', 'v75_C', 'v75_D', 'v79_B', 'v79_C', 'v79_D', 'v79_E', 'v79_G', 'v79_H', 'v79_I', 'v79_K', 'v79_L', 'v79_M', 'v79_N', 'v79_O', 'v79_P', 'v79_Q', 'v79_R', 'v91_B', 'v91_C', 'v91_E', 'v91_F', 'v91_G', 'v107_B', 'v107_C', 'v107_D', 'v107_E', 'v107_F', 'v110_B', 'v110_C', 'v112_B', 'v112_C', 'v112_D', 'v112_E', 'v112_F', 'v112_G', 'v112_H', 'v112_I', 'v112_J', 'v112_K', 'v112_L', 'v112_M', 'v112_N', 'v112_O', 'v112_P', 'v112_Q', 'v112_R', 'v112_T', 'v112_U', 'v113_AA', 'v113_AC', 'v113_AE', 'v113_AF', 'v113_AG', 'v113_AH', 'v113_AI', 'v113_AJ', 'v113_AK', 'v113_B', 'v113_C', 'v113_F', 'v113_G', 'v113_H', 'v113_K', 'v113_M', 'v113_N', 'v113_O', 'v113_P', 'v113_Q', 'v113_R', 'v113_S', 'v113_T', 'v113_V', 'v113_W', 'v113_X', 'v125_AA', 'v125_AB', 'v125_AC', 'v125_AD', 'v125_AF', 'v125_AG', 'v125_AJ', 'v125_AK', 'v125_AL', 'v125_AN', 'v125_AP', 'v125_AQ', 'v125_AR', 'v125_AU', 'v125_AX', 'v125_AZ', 'v125_BB', 'v125_BJ', 'v125_BK', 'v125_BL', 'v125_BM', 'v125_BN', 'v125_BO', 'v125_BV', 'v125_BW', 'v125_BY', 'v125_BZ', 'v125_C', 'v125_CA', 'v125_CG', 'v125_CH', 'v125_CJ', 'v125_D', 'v125_E', 'v125_F', 'v125_G', 'v125_H', 'v125_J', 'v125_K', 'v125_L', 'v125_M', 'v125_P', 'v125_Q', 'v125_T', 'v125_U', 'v125_V', 'v125_X', 'v125_Y', 'v125_Z']\n",
      "Large -  372  features ['v1', 'v2', 'v4', 'v5', 'v6', 'v7', 'v8', 'v9', 'v10', 'v11', 'v12', 'v13', 'v14', 'v15', 'v16', 'v17', 'v18', 'v19', 'v20', 'v21', 'v23', 'v25', 'v26', 'v27', 'v28', 'v29', 'v32', 'v33', 'v34', 'v35', 'v36', 'v37', 'v38', 'v39', 'v40', 'v41', 'v42', 'v43', 'v44', 'v45', 'v46', 'v48', 'v49', 'v50', 'v51', 'v53', 'v54', 'v55', 'v57', 'v58', 'v59', 'v60', 'v61', 'v62', 'v63', 'v64', 'v65', 'v67', 'v68', 'v69', 'v70', 'v72', 'v73', 'v76', 'v77', 'v78', 'v80', 'v81', 'v82', 'v83', 'v84', 'v85', 'v86', 'v87', 'v88', 'v89', 'v90', 'v92', 'v93', 'v94', 'v95', 'v96', 'v97', 'v98', 'v99', 'v100', 'v101', 'v102', 'v103', 'v104', 'v105', 'v106', 'v108', 'v109', 'v111', 'v114', 'v115', 'v116', 'v117', 'v118', 'v119', 'v120', 'v121', 'v122', 'v123', 'v124', 'v126', 'v127', 'v128', 'v129', 'v130', 'v131', 'v3_B', 'v3_C', 'v24_B', 'v24_C', 'v24_D', 'v24_E', 'v30_B', 'v30_C', 'v30_D', 'v30_E', 'v30_F', 'v30_G', 'v31_B', 'v31_C', 'v47_C', 'v47_D', 'v47_E', 'v47_F', 'v47_G', 'v47_I', 'v47_J', 'v52_B', 'v52_C', 'v52_D', 'v52_E', 'v52_F', 'v52_G', 'v52_H', 'v52_I', 'v52_J', 'v52_K', 'v52_L', 'v56_AA', 'v56_AB', 'v56_AC', 'v56_AF', 'v56_AH', 'v56_AI', 'v56_AJ', 'v56_AK', 'v56_AL', 'v56_AM', 'v56_AN', 'v56_AO', 'v56_AP', 'v56_AS', 'v56_AT', 'v56_AU', 'v56_AV', 'v56_AW', 'v56_AY', 'v56_AZ', 'v56_B', 'v56_BA', 'v56_BC', 'v56_BD', 'v56_BE', 'v56_BF', 'v56_BG', 'v56_BH', 'v56_BI', 'v56_BJ', 'v56_BK', 'v56_BL', 'v56_BN', 'v56_BO', 'v56_BP', 'v56_BQ', 'v56_BR', 'v56_BS', 'v56_BT', 'v56_BU', 'v56_BV', 'v56_BW', 'v56_BX', 'v56_BY', 'v56_BZ', 'v56_C', 'v56_CA', 'v56_CB', 'v56_CC', 'v56_CD', 'v56_CE', 'v56_CF', 'v56_CH', 'v56_CI', 'v56_CJ', 'v56_CK', 'v56_CL', 'v56_CN', 'v56_CP', 'v56_CQ', 'v56_CT', 'v56_CU', 'v56_CV', 'v56_CW', 'v56_CX', 'v56_CY', 'v56_CZ', 'v56_D', 'v56_DA', 'v56_DB', 'v56_DC', 'v56_DD', 'v56_DE', 'v56_DF', 'v56_DG', 'v56_DI', 'v56_DL', 'v56_DM', 'v56_DO', 'v56_DP', 'v56_DQ', 'v56_DR', 'v56_DS', 'v56_DT', 'v56_DU', 'v56_DV', 'v56_DW', 'v56_DX', 'v56_DY', 'v56_DZ', 'v56_E', 'v56_F', 'v56_G', 'v56_H', 'v56_K', 'v56_M', 'v56_N', 'v56_O', 'v56_P', 'v56_Q', 'v56_R', 'v56_S', 'v56_T', 'v56_W', 'v56_Y', 'v56_Z', 'v66_B', 'v66_C', 'v71_B', 'v71_C', 'v71_E', 'v71_F', 'v71_H', 'v71_I', 'v71_J', 'v71_K', 'v71_L', 'v74_B', 'v75_B', 'v75_C', 'v75_D', 'v79_B', 'v79_C', 'v79_D', 'v79_E', 'v79_G', 'v79_I', 'v79_K', 'v79_N', 'v79_O', 'v79_P', 'v79_Q', 'v79_R', 'v91_B', 'v91_C', 'v91_D', 'v91_E', 'v91_F', 'v91_G', 'v107_B', 'v107_C', 'v107_E', 'v107_F', 'v107_G', 'v110_B', 'v110_C', 'v112_B', 'v112_C', 'v112_D', 'v112_E', 'v112_F', 'v112_H', 'v112_I', 'v112_J', 'v112_K', 'v112_L', 'v112_N', 'v112_O', 'v112_P', 'v112_Q', 'v112_R', 'v112_U', 'v113_AA', 'v113_AC', 'v113_AE', 'v113_AF', 'v113_AG', 'v113_AJ', 'v113_E', 'v113_G', 'v113_H', 'v113_I', 'v113_J', 'v113_M', 'v113_O', 'v113_P', 'v113_R', 'v113_U', 'v113_W', 'v113_Y', 'v125_AA', 'v125_AD', 'v125_AE', 'v125_AH', 'v125_AJ', 'v125_AK', 'v125_AP', 'v125_AQ', 'v125_AS', 'v125_AV', 'v125_AX', 'v125_AY', 'v125_BB', 'v125_BD', 'v125_BG', 'v125_BJ', 'v125_BK', 'v125_BM', 'v125_BN', 'v125_BP', 'v125_BQ', 'v125_BR', 'v125_BT', 'v125_BV', 'v125_BW', 'v125_BY', 'v125_CD', 'v125_CE', 'v125_CF', 'v125_CG', 'v125_CH', 'v125_CI', 'v125_CK', 'v125_D', 'v125_E', 'v125_F', 'v125_G', 'v125_H', 'v125_I', 'v125_J', 'v125_L', 'v125_N', 'v125_O', 'v125_P', 'v125_S', 'v125_V', 'v125_Y', 'v125_Z']\n",
      "248  features\n",
      "(33312, 249)\n",
      "(14276, 249)\n",
      "[0]\ttrain-logloss:0.687497+5.36336e-05\ttest-logloss:0.687585+0.000105631\n",
      "[30]\ttrain-logloss:0.565384+0.000930953\ttest-logloss:0.567796+0.00309776\n",
      "[60]\ttrain-logloss:0.503346+0.0011477\ttest-logloss:0.508119+0.00537039\n",
      "[90]\ttrain-logloss:0.473257+0.0013333\ttest-logloss:0.480341+0.00651063\n",
      "[120]\ttrain-logloss:0.457464+0.00159664\ttest-logloss:0.466984+0.00715878\n",
      "[150]\ttrain-logloss:0.448148+0.00187143\ttest-logloss:0.460106+0.00746572\n",
      "[180]\ttrain-logloss:0.441944+0.0018892\ttest-logloss:0.456211+0.00781951\n",
      "[210]\ttrain-logloss:0.437553+0.00199512\ttest-logloss:0.453952+0.00787432\n",
      "[240]\ttrain-logloss:0.434129+0.00202268\ttest-logloss:0.452481+0.00804772\n",
      "[270]\ttrain-logloss:0.43127+0.00206699\ttest-logloss:0.451451+0.00815109\n",
      "[300]\ttrain-logloss:0.428718+0.0020458\ttest-logloss:0.450797+0.00815032\n",
      "[330]\ttrain-logloss:0.426553+0.00198896\ttest-logloss:0.450302+0.00819337\n",
      "[360]\ttrain-logloss:0.424463+0.00190083\ttest-logloss:0.449893+0.00830362\n",
      "[390]\ttrain-logloss:0.422572+0.00193754\ttest-logloss:0.449582+0.0083928\n",
      "[420]\ttrain-logloss:0.420741+0.00190195\ttest-logloss:0.449338+0.00841865\n",
      "[450]\ttrain-logloss:0.419015+0.00180531\ttest-logloss:0.449138+0.0084912\n",
      "[480]\ttrain-logloss:0.417411+0.00176302\ttest-logloss:0.448992+0.00848699\n",
      "Log loss: 0.457037978703\n",
      "Accuracy: 0.791958531802\n",
      "Area under ROC curve 0.760247394293\n",
      "352  features\n",
      "(44449, 353)\n",
      "(19050, 353)\n",
      "[0]\ttrain-logloss:0.687857+3.43569e-05\ttest-logloss:0.688005+6.05231e-05\n",
      "[30]\ttrain-logloss:0.573943+0.000975169\ttest-logloss:0.57823+0.00103397\n",
      "[60]\ttrain-logloss:0.517562+0.00097903\ttest-logloss:0.525867+0.00162058\n",
      "[90]\ttrain-logloss:0.490098+0.000972126\ttest-logloss:0.502515+0.00213614\n",
      "[120]\ttrain-logloss:0.475553+0.000868653\ttest-logloss:0.492104+0.00252103\n",
      "[150]\ttrain-logloss:0.466396+0.000899431\ttest-logloss:0.487138+0.00270409\n",
      "[180]\ttrain-logloss:0.459669+0.000933779\ttest-logloss:0.484572+0.00276638\n",
      "[210]\ttrain-logloss:0.45401+0.000963623\ttest-logloss:0.483093+0.00284722\n",
      "[240]\ttrain-logloss:0.448913+0.00098442\ttest-logloss:0.482191+0.00284545\n",
      "[270]\ttrain-logloss:0.444179+0.00116325\ttest-logloss:0.481561+0.00286345\n",
      "[300]\ttrain-logloss:0.439677+0.00128713\ttest-logloss:0.481138+0.00290637\n",
      "[330]\ttrain-logloss:0.435198+0.00123558\ttest-logloss:0.480766+0.00298631\n",
      "[360]\ttrain-logloss:0.430832+0.00120922\ttest-logloss:0.480489+0.0030444\n",
      "[390]\ttrain-logloss:0.426585+0.00119009\ttest-logloss:0.480182+0.00304539\n",
      "[420]\ttrain-logloss:0.422441+0.00120194\ttest-logloss:0.480057+0.00313028\n",
      "[450]\ttrain-logloss:0.418541+0.00125413\ttest-logloss:0.479892+0.00308472\n",
      "[480]\ttrain-logloss:0.414556+0.00137885\ttest-logloss:0.479819+0.0031254\n",
      "Log loss: 0.484465565306\n",
      "Accuracy: 0.771601049869\n",
      "Area under ROC curve 0.740415814129\n",
      "Small -  248  features ['v10', 'v12', 'v14', 'v21', 'v34', 'v38', 'v40', 'v50', 'v62', 'v72', 'v114', 'v129', 'v3_B', 'v3_C', 'v24_B', 'v24_C', 'v24_D', 'v24_E', 'v30_C', 'v30_D', 'v30_E', 'v30_F', 'v30_G', 'v31_B', 'v31_C', 'v47_C', 'v47_D', 'v47_E', 'v47_F', 'v47_G', 'v47_I', 'v47_J', 'v52_B', 'v52_C', 'v52_D', 'v52_E', 'v52_F', 'v52_G', 'v52_H', 'v52_I', 'v52_J', 'v52_K', 'v52_L', 'v56_AC', 'v56_AD', 'v56_AE', 'v56_AF', 'v56_AG', 'v56_AJ', 'v56_AM', 'v56_AQ', 'v56_AR', 'v56_AS', 'v56_AU', 'v56_AV', 'v56_AW', 'v56_AY', 'v56_AZ', 'v56_B', 'v56_BB', 'v56_BD', 'v56_BE', 'v56_BF', 'v56_BH', 'v56_BI', 'v56_BJ', 'v56_BK', 'v56_BL', 'v56_BN', 'v56_BO', 'v56_BP', 'v56_BR', 'v56_BS', 'v56_BT', 'v56_BU', 'v56_BV', 'v56_BW', 'v56_BX', 'v56_BZ', 'v56_CB', 'v56_CD', 'v56_CG', 'v56_CI', 'v56_CJ', 'v56_CL', 'v56_CN', 'v56_CO', 'v56_CP', 'v56_CQ', 'v56_CR', 'v56_CT', 'v56_CV', 'v56_CW', 'v56_CX', 'v56_CY', 'v56_D', 'v56_DD', 'v56_DE', 'v56_DF', 'v56_DG', 'v56_DH', 'v56_DI', 'v56_DJ', 'v56_DL', 'v56_DM', 'v56_DO', 'v56_DP', 'v56_DQ', 'v56_DR', 'v56_DT', 'v56_DV', 'v56_DW', 'v56_DX', 'v56_DY', 'v56_E', 'v56_F', 'v56_G', 'v56_H', 'v56_I', 'v56_J', 'v56_L', 'v56_N', 'v56_O', 'v56_P', 'v56_Q', 'v56_T', 'v56_U', 'v56_V', 'v56_W', 'v56_X', 'v66_B', 'v66_C', 'v71_C', 'v71_D', 'v71_F', 'v71_L', 'v74_B', 'v74_C', 'v75_B', 'v75_C', 'v75_D', 'v79_B', 'v79_C', 'v79_D', 'v79_E', 'v79_G', 'v79_H', 'v79_I', 'v79_K', 'v79_L', 'v79_M', 'v79_N', 'v79_P', 'v79_Q', 'v91_B', 'v91_C', 'v91_E', 'v91_F', 'v91_G', 'v107_B', 'v107_C', 'v107_D', 'v107_E', 'v107_F', 'v110_B', 'v110_C', 'v112_B', 'v112_C', 'v112_D', 'v112_E', 'v112_F', 'v112_G', 'v112_H', 'v112_I', 'v112_J', 'v112_K', 'v112_L', 'v112_M', 'v112_N', 'v112_O', 'v112_P', 'v112_Q', 'v112_R', 'v112_T', 'v112_U', 'v113_AA', 'v113_AC', 'v113_AE', 'v113_AF', 'v113_AG', 'v113_AI', 'v113_AJ', 'v113_AK', 'v113_B', 'v113_C', 'v113_F', 'v113_G', 'v113_K', 'v113_M', 'v113_N', 'v113_O', 'v113_P', 'v113_Q', 'v113_S', 'v113_T', 'v113_V', 'v113_W', 'v113_X', 'v125_AA', 'v125_AC', 'v125_AD', 'v125_AF', 'v125_AG', 'v125_AJ', 'v125_AK', 'v125_AL', 'v125_AN', 'v125_AP', 'v125_AR', 'v125_AU', 'v125_AX', 'v125_AZ', 'v125_BB', 'v125_BJ', 'v125_BL', 'v125_BM', 'v125_BN', 'v125_BV', 'v125_BW', 'v125_BY', 'v125_BZ', 'v125_C', 'v125_CA', 'v125_CG', 'v125_CH', 'v125_CJ', 'v125_D', 'v125_E', 'v125_H', 'v125_L', 'v125_M', 'v125_P', 'v125_T', 'v125_U', 'v125_V', 'v125_X', 'v125_Y', 'v125_Z']\n",
      "Large -  352  features ['v1', 'v2', 'v4', 'v5', 'v6', 'v7', 'v8', 'v9', 'v10', 'v11', 'v12', 'v13', 'v14', 'v15', 'v16', 'v17', 'v18', 'v19', 'v20', 'v21', 'v23', 'v25', 'v26', 'v27', 'v28', 'v29', 'v32', 'v33', 'v34', 'v35', 'v36', 'v37', 'v38', 'v39', 'v40', 'v41', 'v42', 'v43', 'v44', 'v45', 'v46', 'v48', 'v49', 'v50', 'v51', 'v53', 'v54', 'v55', 'v57', 'v58', 'v59', 'v60', 'v61', 'v62', 'v63', 'v64', 'v65', 'v67', 'v68', 'v69', 'v70', 'v72', 'v73', 'v76', 'v77', 'v78', 'v80', 'v81', 'v82', 'v83', 'v84', 'v85', 'v86', 'v87', 'v88', 'v89', 'v90', 'v92', 'v93', 'v94', 'v95', 'v96', 'v97', 'v98', 'v99', 'v100', 'v101', 'v102', 'v103', 'v104', 'v105', 'v106', 'v108', 'v109', 'v111', 'v114', 'v115', 'v116', 'v117', 'v118', 'v119', 'v120', 'v121', 'v122', 'v123', 'v124', 'v126', 'v127', 'v128', 'v129', 'v130', 'v131', 'v3_B', 'v24_B', 'v24_C', 'v24_D', 'v24_E', 'v30_B', 'v30_C', 'v30_D', 'v30_E', 'v30_F', 'v30_G', 'v31_B', 'v31_C', 'v47_C', 'v47_D', 'v47_E', 'v47_F', 'v47_G', 'v47_I', 'v47_J', 'v52_B', 'v52_C', 'v52_D', 'v52_E', 'v52_F', 'v52_G', 'v52_H', 'v52_I', 'v52_J', 'v52_K', 'v52_L', 'v56_AA', 'v56_AB', 'v56_AC', 'v56_AF', 'v56_AH', 'v56_AI', 'v56_AJ', 'v56_AK', 'v56_AM', 'v56_AN', 'v56_AO', 'v56_AP', 'v56_AS', 'v56_AT', 'v56_AU', 'v56_AV', 'v56_AW', 'v56_AY', 'v56_B', 'v56_BA', 'v56_BC', 'v56_BD', 'v56_BE', 'v56_BF', 'v56_BG', 'v56_BH', 'v56_BI', 'v56_BJ', 'v56_BK', 'v56_BL', 'v56_BN', 'v56_BO', 'v56_BP', 'v56_BQ', 'v56_BR', 'v56_BS', 'v56_BT', 'v56_BU', 'v56_BV', 'v56_BW', 'v56_BX', 'v56_BY', 'v56_BZ', 'v56_C', 'v56_CA', 'v56_CB', 'v56_CC', 'v56_CD', 'v56_CE', 'v56_CF', 'v56_CI', 'v56_CJ', 'v56_CK', 'v56_CL', 'v56_CN', 'v56_CP', 'v56_CQ', 'v56_CT', 'v56_CU', 'v56_CV', 'v56_CW', 'v56_CX', 'v56_CY', 'v56_CZ', 'v56_D', 'v56_DA', 'v56_DB', 'v56_DC', 'v56_DD', 'v56_DE', 'v56_DF', 'v56_DG', 'v56_DI', 'v56_DL', 'v56_DM', 'v56_DO', 'v56_DQ', 'v56_DR', 'v56_DS', 'v56_DT', 'v56_DU', 'v56_DV', 'v56_DW', 'v56_DX', 'v56_DY', 'v56_DZ', 'v56_E', 'v56_F', 'v56_G', 'v56_H', 'v56_K', 'v56_M', 'v56_O', 'v56_P', 'v56_Q', 'v56_R', 'v56_S', 'v56_T', 'v56_W', 'v56_Y', 'v56_Z', 'v66_B', 'v66_C', 'v71_B', 'v71_C', 'v71_E', 'v71_F', 'v71_H', 'v71_I', 'v71_J', 'v71_K', 'v71_L', 'v74_B', 'v75_B', 'v75_C', 'v75_D', 'v79_B', 'v79_C', 'v79_D', 'v79_E', 'v79_G', 'v79_I', 'v79_K', 'v79_N', 'v79_O', 'v79_P', 'v79_Q', 'v79_R', 'v91_B', 'v91_C', 'v91_D', 'v91_E', 'v91_F', 'v91_G', 'v107_B', 'v107_C', 'v107_E', 'v107_G', 'v110_B', 'v112_B', 'v112_C', 'v112_D', 'v112_E', 'v112_F', 'v112_H', 'v112_I', 'v112_J', 'v112_K', 'v112_L', 'v112_N', 'v112_O', 'v112_P', 'v112_Q', 'v112_R', 'v112_U', 'v113_AA', 'v113_AC', 'v113_AE', 'v113_AF', 'v113_AG', 'v113_AJ', 'v113_E', 'v113_G', 'v113_H', 'v113_I', 'v113_J', 'v113_M', 'v113_O', 'v113_P', 'v113_R', 'v113_U', 'v113_Y', 'v125_AA', 'v125_AD', 'v125_AE', 'v125_AH', 'v125_AJ', 'v125_AK', 'v125_AP', 'v125_AQ', 'v125_AX', 'v125_AY', 'v125_BB', 'v125_BD', 'v125_BG', 'v125_BJ', 'v125_BM', 'v125_BN', 'v125_BP', 'v125_BQ', 'v125_BR', 'v125_BT', 'v125_BV', 'v125_BW', 'v125_BY', 'v125_CE', 'v125_CG', 'v125_CH', 'v125_CI', 'v125_CK', 'v125_F', 'v125_I', 'v125_L', 'v125_N', 'v125_O', 'v125_S', 'v125_V', 'v125_Y', 'v125_Z']\n",
      "228  features\n",
      "(33312, 229)\n",
      "(14276, 229)\n",
      "[0]\ttrain-logloss:0.687448+2.87889e-05\ttest-logloss:0.687552+6.85081e-05\n",
      "[30]\ttrain-logloss:0.564555+0.000892697\ttest-logloss:0.567192+0.00132396\n",
      "[60]\ttrain-logloss:0.502574+0.00144341\ttest-logloss:0.507911+0.00238551\n",
      "[90]\ttrain-logloss:0.472944+0.00144062\ttest-logloss:0.480585+0.00344665\n",
      "[120]\ttrain-logloss:0.457381+0.00175312\ttest-logloss:0.467428+0.00418541\n",
      "[150]\ttrain-logloss:0.448395+0.00177335\ttest-logloss:0.46082+0.0047592\n",
      "[180]\ttrain-logloss:0.442153+0.00178368\ttest-logloss:0.456992+0.0051947\n",
      "[210]\ttrain-logloss:0.437609+0.0017535\ttest-logloss:0.454829+0.00545152\n",
      "[240]\ttrain-logloss:0.433894+0.00173137\ttest-logloss:0.453344+0.00580367\n",
      "[270]\ttrain-logloss:0.431006+0.00163951\ttest-logloss:0.452422+0.00602363\n",
      "[300]\ttrain-logloss:0.428517+0.00171757\ttest-logloss:0.451833+0.00614318\n",
      "[330]\ttrain-logloss:0.426307+0.0017058\ttest-logloss:0.451331+0.00618839\n",
      "[360]\ttrain-logloss:0.424241+0.00169946\ttest-logloss:0.451067+0.00630121\n",
      "[390]\ttrain-logloss:0.422332+0.00168619\ttest-logloss:0.450799+0.00637663\n",
      "[420]\ttrain-logloss:0.420495+0.00168056\ttest-logloss:0.450558+0.0065195\n",
      "[450]\ttrain-logloss:0.418745+0.00165821\ttest-logloss:0.450377+0.0066133\n",
      "[480]\ttrain-logloss:0.417009+0.00172231\ttest-logloss:0.450309+0.00664596\n",
      "Log loss: 0.455646989382\n",
      "Accuracy: 0.791188007845\n",
      "Area under ROC curve 0.763892478014\n",
      "332  features\n",
      "(44449, 333)\n",
      "(19050, 333)\n",
      "[0]\ttrain-logloss:0.687938+3.37603e-05\ttest-logloss:0.688072+9.14868e-05\n",
      "[30]\ttrain-logloss:0.575186+0.00087325\ttest-logloss:0.579594+0.00179486\n",
      "[60]\ttrain-logloss:0.519638+0.00111451\ttest-logloss:0.527978+0.0029102\n",
      "[90]\ttrain-logloss:0.492603+0.0011783\ttest-logloss:0.505098+0.00365742\n",
      "[120]\ttrain-logloss:0.477885+0.0012467\ttest-logloss:0.494797+0.0040694\n",
      "[150]\ttrain-logloss:0.468668+0.00119488\ttest-logloss:0.489799+0.00446435\n",
      "[180]\ttrain-logloss:0.461891+0.00111571\ttest-logloss:0.487303+0.00468855\n",
      "[210]\ttrain-logloss:0.456125+0.00119328\ttest-logloss:0.485754+0.00477514\n",
      "[240]\ttrain-logloss:0.450769+0.00114517\ttest-logloss:0.484778+0.00475783\n",
      "[270]\ttrain-logloss:0.446213+0.00117887\ttest-logloss:0.484115+0.00485158\n",
      "[300]\ttrain-logloss:0.441708+0.00103977\ttest-logloss:0.483599+0.00493123\n",
      "[330]\ttrain-logloss:0.437289+0.00118504\ttest-logloss:0.48321+0.00488428\n",
      "[360]\ttrain-logloss:0.432936+0.00127732\ttest-logloss:0.482914+0.00479523\n",
      "[390]\ttrain-logloss:0.42876+0.00132981\ttest-logloss:0.482656+0.00470097\n",
      "[420]\ttrain-logloss:0.424859+0.00126217\ttest-logloss:0.482479+0.0047475\n",
      "[450]\ttrain-logloss:0.420953+0.00131078\ttest-logloss:0.482365+0.00479515\n",
      "[480]\ttrain-logloss:0.417001+0.00150941\ttest-logloss:0.482258+0.00480019\n",
      "Log loss: 0.478191525982\n",
      "Accuracy: 0.775170603675\n",
      "Area under ROC curve 0.744346197938\n",
      "Small -  228  features ['v10', 'v12', 'v14', 'v21', 'v34', 'v38', 'v40', 'v50', 'v62', 'v72', 'v114', 'v129', 'v3_B', 'v24_B', 'v24_C', 'v24_D', 'v24_E', 'v30_C', 'v30_D', 'v30_E', 'v30_G', 'v31_B', 'v31_C', 'v47_C', 'v47_E', 'v47_F', 'v47_G', 'v47_I', 'v47_J', 'v52_B', 'v52_C', 'v52_D', 'v52_E', 'v52_F', 'v52_G', 'v52_H', 'v52_I', 'v52_J', 'v52_K', 'v52_L', 'v56_AC', 'v56_AD', 'v56_AE', 'v56_AF', 'v56_AG', 'v56_AJ', 'v56_AM', 'v56_AQ', 'v56_AR', 'v56_AS', 'v56_AU', 'v56_AV', 'v56_AW', 'v56_AY', 'v56_AZ', 'v56_B', 'v56_BB', 'v56_BD', 'v56_BE', 'v56_BF', 'v56_BH', 'v56_BI', 'v56_BJ', 'v56_BK', 'v56_BL', 'v56_BN', 'v56_BO', 'v56_BP', 'v56_BR', 'v56_BS', 'v56_BT', 'v56_BU', 'v56_BV', 'v56_BW', 'v56_BX', 'v56_BZ', 'v56_CB', 'v56_CD', 'v56_CG', 'v56_CI', 'v56_CJ', 'v56_CL', 'v56_CN', 'v56_CO', 'v56_CQ', 'v56_CR', 'v56_CT', 'v56_CV', 'v56_CW', 'v56_CX', 'v56_CY', 'v56_D', 'v56_DD', 'v56_DE', 'v56_DF', 'v56_DG', 'v56_DH', 'v56_DI', 'v56_DJ', 'v56_DM', 'v56_DO', 'v56_DP', 'v56_DQ', 'v56_DR', 'v56_DT', 'v56_DV', 'v56_DW', 'v56_DX', 'v56_DY', 'v56_E', 'v56_F', 'v56_G', 'v56_H', 'v56_I', 'v56_J', 'v56_L', 'v56_N', 'v56_O', 'v56_P', 'v56_Q', 'v56_T', 'v56_U', 'v56_V', 'v56_W', 'v56_X', 'v66_B', 'v66_C', 'v71_C', 'v71_D', 'v71_F', 'v71_L', 'v74_B', 'v74_C', 'v75_B', 'v75_C', 'v75_D', 'v79_B', 'v79_C', 'v79_D', 'v79_E', 'v79_G', 'v79_H', 'v79_I', 'v79_K', 'v79_L', 'v79_M', 'v79_N', 'v79_P', 'v79_Q', 'v91_B', 'v91_C', 'v91_E', 'v91_F', 'v91_G', 'v107_B', 'v107_C', 'v107_D', 'v107_E', 'v110_B', 'v112_B', 'v112_D', 'v112_E', 'v112_F', 'v112_G', 'v112_H', 'v112_I', 'v112_J', 'v112_K', 'v112_L', 'v112_M', 'v112_N', 'v112_O', 'v112_P', 'v112_R', 'v112_T', 'v112_U', 'v113_AA', 'v113_AC', 'v113_AE', 'v113_AG', 'v113_AI', 'v113_AJ', 'v113_AK', 'v113_B', 'v113_C', 'v113_F', 'v113_G', 'v113_K', 'v113_M', 'v113_N', 'v113_P', 'v113_Q', 'v113_S', 'v113_T', 'v113_V', 'v113_X', 'v125_AA', 'v125_AC', 'v125_AF', 'v125_AG', 'v125_AJ', 'v125_AK', 'v125_AL', 'v125_AN', 'v125_AP', 'v125_AR', 'v125_AX', 'v125_AZ', 'v125_BB', 'v125_BJ', 'v125_BM', 'v125_BN', 'v125_BV', 'v125_BW', 'v125_BY', 'v125_BZ', 'v125_C', 'v125_CA', 'v125_CG', 'v125_CH', 'v125_H', 'v125_M', 'v125_P', 'v125_T', 'v125_V', 'v125_X', 'v125_Y', 'v125_Z']\n",
      "Large -  332  features ['v1', 'v2', 'v4', 'v5', 'v6', 'v7', 'v8', 'v9', 'v10', 'v11', 'v12', 'v13', 'v14', 'v15', 'v16', 'v17', 'v18', 'v19', 'v20', 'v21', 'v23', 'v25', 'v26', 'v27', 'v28', 'v29', 'v32', 'v33', 'v34', 'v35', 'v36', 'v37', 'v38', 'v39', 'v40', 'v41', 'v42', 'v43', 'v44', 'v45', 'v46', 'v48', 'v49', 'v50', 'v51', 'v53', 'v54', 'v55', 'v57', 'v58', 'v59', 'v60', 'v61', 'v62', 'v63', 'v64', 'v65', 'v67', 'v68', 'v69', 'v70', 'v72', 'v73', 'v76', 'v77', 'v78', 'v80', 'v81', 'v82', 'v83', 'v84', 'v85', 'v86', 'v87', 'v88', 'v89', 'v90', 'v92', 'v93', 'v94', 'v95', 'v96', 'v97', 'v98', 'v99', 'v100', 'v101', 'v102', 'v103', 'v104', 'v105', 'v106', 'v108', 'v109', 'v111', 'v114', 'v115', 'v116', 'v117', 'v118', 'v119', 'v120', 'v121', 'v122', 'v123', 'v124', 'v126', 'v127', 'v128', 'v129', 'v130', 'v131', 'v3_B', 'v24_B', 'v24_C', 'v24_D', 'v24_E', 'v30_B', 'v30_C', 'v30_D', 'v30_E', 'v30_F', 'v30_G', 'v31_B', 'v47_C', 'v47_E', 'v47_F', 'v47_G', 'v47_I', 'v47_J', 'v52_B', 'v52_C', 'v52_D', 'v52_E', 'v52_F', 'v52_G', 'v52_H', 'v52_I', 'v52_J', 'v52_K', 'v52_L', 'v56_AA', 'v56_AB', 'v56_AC', 'v56_AF', 'v56_AH', 'v56_AI', 'v56_AJ', 'v56_AK', 'v56_AM', 'v56_AN', 'v56_AO', 'v56_AP', 'v56_AS', 'v56_AT', 'v56_AU', 'v56_AV', 'v56_AW', 'v56_AY', 'v56_B', 'v56_BA', 'v56_BC', 'v56_BD', 'v56_BE', 'v56_BF', 'v56_BG', 'v56_BH', 'v56_BI', 'v56_BK', 'v56_BL', 'v56_BN', 'v56_BO', 'v56_BP', 'v56_BQ', 'v56_BR', 'v56_BS', 'v56_BT', 'v56_BU', 'v56_BV', 'v56_BW', 'v56_BX', 'v56_BY', 'v56_BZ', 'v56_CA', 'v56_CB', 'v56_CC', 'v56_CD', 'v56_CE', 'v56_CF', 'v56_CI', 'v56_CJ', 'v56_CK', 'v56_CL', 'v56_CN', 'v56_CP', 'v56_CQ', 'v56_CT', 'v56_CU', 'v56_CV', 'v56_CW', 'v56_CX', 'v56_CY', 'v56_CZ', 'v56_D', 'v56_DB', 'v56_DC', 'v56_DD', 'v56_DE', 'v56_DF', 'v56_DG', 'v56_DI', 'v56_DL', 'v56_DM', 'v56_DO', 'v56_DQ', 'v56_DR', 'v56_DS', 'v56_DT', 'v56_DU', 'v56_DV', 'v56_DW', 'v56_DX', 'v56_DY', 'v56_DZ', 'v56_E', 'v56_F', 'v56_G', 'v56_H', 'v56_K', 'v56_M', 'v56_O', 'v56_P', 'v56_Q', 'v56_R', 'v56_S', 'v56_T', 'v56_W', 'v56_Y', 'v56_Z', 'v66_B', 'v66_C', 'v71_B', 'v71_C', 'v71_E', 'v71_F', 'v71_H', 'v71_I', 'v71_J', 'v71_K', 'v71_L', 'v74_B', 'v75_B', 'v75_C', 'v75_D', 'v79_B', 'v79_C', 'v79_D', 'v79_E', 'v79_G', 'v79_I', 'v79_N', 'v79_O', 'v79_P', 'v79_Q', 'v79_R', 'v91_B', 'v91_C', 'v91_E', 'v91_F', 'v91_G', 'v107_B', 'v107_C', 'v107_E', 'v107_G', 'v110_B', 'v112_D', 'v112_E', 'v112_F', 'v112_H', 'v112_I', 'v112_J', 'v112_K', 'v112_L', 'v112_N', 'v112_O', 'v112_P', 'v112_Q', 'v112_R', 'v112_U', 'v113_AA', 'v113_AC', 'v113_AE', 'v113_AG', 'v113_AJ', 'v113_E', 'v113_G', 'v113_H', 'v113_I', 'v113_J', 'v113_M', 'v113_O', 'v113_P', 'v113_R', 'v113_U', 'v113_Y', 'v125_AE', 'v125_AH', 'v125_AJ', 'v125_AP', 'v125_AX', 'v125_BB', 'v125_BD', 'v125_BG', 'v125_BJ', 'v125_BM', 'v125_BN', 'v125_BP', 'v125_BR', 'v125_BT', 'v125_BW', 'v125_BY', 'v125_CE', 'v125_CG', 'v125_CI', 'v125_CK', 'v125_F', 'v125_I', 'v125_L', 'v125_N', 'v125_O', 'v125_V', 'v125_Y']\n",
      "208  features\n",
      "(33312, 209)\n",
      "(14276, 209)\n",
      "[0]\ttrain-logloss:0.687783+2.83577e-05\ttest-logloss:0.687882+6.43509e-05\n",
      "[30]\ttrain-logloss:0.565705+0.0005411\ttest-logloss:0.568174+0.00115105\n",
      "[60]\ttrain-logloss:0.504231+0.000800948\ttest-logloss:0.509078+0.00149747\n",
      "[90]\ttrain-logloss:0.474441+0.00102573\ttest-logloss:0.481569+0.00179658\n",
      "[120]\ttrain-logloss:0.458825+0.000808215\ttest-logloss:0.468192+0.00133868\n",
      "[150]\ttrain-logloss:0.449716+0.000772546\ttest-logloss:0.461495+0.00121461\n",
      "[180]\ttrain-logloss:0.443664+0.000627665\ttest-logloss:0.457688+0.00115611\n",
      "[210]\ttrain-logloss:0.439143+0.000499946\ttest-logloss:0.45541+0.00106817\n",
      "[240]\ttrain-logloss:0.43563+0.000448307\ttest-logloss:0.453981+0.00118195\n",
      "[270]\ttrain-logloss:0.432664+0.00052793\ttest-logloss:0.453041+0.00118017\n",
      "[300]\ttrain-logloss:0.430106+0.000579469\ttest-logloss:0.452379+0.00129169\n",
      "[330]\ttrain-logloss:0.427896+0.000571982\ttest-logloss:0.451898+0.00132423\n",
      "[360]\ttrain-logloss:0.425754+0.000528177\ttest-logloss:0.451502+0.00136621\n",
      "[390]\ttrain-logloss:0.423836+0.000445753\ttest-logloss:0.451193+0.00140093\n",
      "[420]\ttrain-logloss:0.421931+0.00049848\ttest-logloss:0.450995+0.00136427\n",
      "[450]\ttrain-logloss:0.420103+0.000463119\ttest-logloss:0.450811+0.00134933\n",
      "[480]\ttrain-logloss:0.418379+0.000517329\ttest-logloss:0.45066+0.00145109\n"
     ]
    }
   ],
   "source": [
    "\n",
    "#List of predictors to pass to XGB\n",
    "predictors_sm = [x for x in trset_sm_xgb.columns if (x != 'target' and x != 'ID')]\n",
    "predictors_lg = [x for x in trset_lg_xgb.columns if (x != 'target' and x != 'ID')]\n",
    "\n",
    "trset_sm_run = trset_sm_xgb\n",
    "trset_lg_run = trset_lg_xgb\n",
    "\n",
    "#Running a loop for successive feature reduction\n",
    "for i in range(0,20):\n",
    "    #Small set classifier\n",
    "    xgb_sm = XGBClassifier(learning_rate =0.02,n_estimators=500,max_depth=5,min_child_weight=1,\n",
    "     gamma=0.2,subsample=0.8,colsample_bytree=0.5,objective= 'binary:logistic',\n",
    "     nthread=8,reg_lambda = 1, max_delta_step=1,seed=i)\n",
    "    \n",
    "    #Large set classifier\n",
    "    xgb_lg = XGBClassifier(learning_rate =0.02,n_estimators=500,max_depth=6,min_child_weight=1,\n",
    "     gamma=0.1,subsample=0.65,colsample_bytree=0.8,objective= 'binary:logistic',nthread=8,\n",
    "     reg_lambda =10, max_delta_step=1, seed=i)\n",
    "    \n",
    "    print(len(predictors_sm), ' features')\n",
    "    #Getting list of features by importance, predicted probabilities and the dataframe to write to CSV\n",
    "    feat_imp_sm, predprob, subDF_sm = modelfit(xgb_sm, trset_sm_run, predictors_sm,testv_sm_xgb)\n",
    "\n",
    "    print(len(predictors_lg), ' features')\n",
    "    feat_imp_lg, predprob, subDF_lg = modelfit(xgb_lg, trset_lg_run, predictors_lg,testv_lg_xgb)\n",
    "    \n",
    "    #Creating the test CSV\n",
    "    fname = 'sub'+str(i+1)+'.csv'\n",
    "    subDF = pd.concat([subDF_sm,subDF_lg])\n",
    "    subDF.to_csv(fname)\n",
    "    \n",
    "    #Getting the top and bottom of the important features list\n",
    "    featdf = pd.DataFrame(feat_imp_sm)\n",
    "    featdf.reset_index()\n",
    "    featdf['newindex']=range(0,len(featdf))\n",
    "    featdf['vars']=featdf.index\n",
    "    featdf.set_index('newindex')\n",
    "    \n",
    "    #Features to drop\n",
    "    droplist = list(featdf.vars[-20:])\n",
    "    #Most important features\n",
    "    toplist = list(featdf.vars[:50])\n",
    "    \n",
    "    print('Small - ',len(predictors_sm), ' top features', predictors_sm )\n",
    "    \n",
    "    #Dropping features and relisting the predictors\n",
    "    trset_sm_run = trset_sm_run.drop(droplist, axis=1)\n",
    "    predictors_sm = [x for x in trset_sm_run.columns if (x != 'target' and x != 'ID')]\n",
    "\n",
    "    featdf = pd.DataFrame(feat_imp_lg)\n",
    "    featdf.reset_index()\n",
    "    featdf['newindex']=range(0,len(featdf))\n",
    "    featdf['vars']=featdf.index\n",
    "    featdf.set_index('newindex')\n",
    "    \n",
    "    droplist = list(featdf.vars[-20:])\n",
    "    toplist = list(featdf.vars[:50])\n",
    "   \n",
    "    print('Large - ',len(predictors_lg), ' features', predictors_lg )\n",
    "    \n",
    "    \n",
    "    trset_lg_run = trset_lg_run.drop(droplist, axis=1)\n",
    "    predictors_lg = [x for x in trset_lg_run.columns if (x != 'target' and x != 'ID')]\n",
    "\n",
    "    #print('Small:',predictors_sm)\n",
    "    #print('Large:',predictors_lg)\n"
   ]
  },
  {
   "cell_type": "code",
   "execution_count": null,
   "metadata": {
    "collapsed": true
   },
   "outputs": [],
   "source": []
  },
  {
   "cell_type": "code",
   "execution_count": null,
   "metadata": {
    "collapsed": true
   },
   "outputs": [],
   "source": []
  },
  {
   "cell_type": "code",
   "execution_count": null,
   "metadata": {
    "collapsed": true
   },
   "outputs": [],
   "source": []
  },
  {
   "cell_type": "code",
   "execution_count": null,
   "metadata": {
    "collapsed": true
   },
   "outputs": [],
   "source": []
  },
  {
   "cell_type": "code",
   "execution_count": null,
   "metadata": {
    "collapsed": true
   },
   "outputs": [],
   "source": []
  },
  {
   "cell_type": "code",
   "execution_count": null,
   "metadata": {
    "collapsed": true
   },
   "outputs": [],
   "source": []
  },
  {
   "cell_type": "code",
   "execution_count": null,
   "metadata": {
    "collapsed": true
   },
   "outputs": [],
   "source": []
  },
  {
   "cell_type": "code",
   "execution_count": null,
   "metadata": {
    "collapsed": true
   },
   "outputs": [],
   "source": []
  },
  {
   "cell_type": "code",
   "execution_count": null,
   "metadata": {
    "collapsed": true
   },
   "outputs": [],
   "source": []
  },
  {
   "cell_type": "code",
   "execution_count": null,
   "metadata": {
    "collapsed": true
   },
   "outputs": [],
   "source": []
  },
  {
   "cell_type": "code",
   "execution_count": null,
   "metadata": {
    "collapsed": true
   },
   "outputs": [],
   "source": []
  },
  {
   "cell_type": "code",
   "execution_count": null,
   "metadata": {
    "collapsed": true
   },
   "outputs": [],
   "source": []
  },
  {
   "cell_type": "code",
   "execution_count": null,
   "metadata": {
    "collapsed": true
   },
   "outputs": [],
   "source": []
  }
 ],
 "metadata": {
  "anaconda-cloud": {},
  "kernelspec": {
   "display_name": "Python 3",
   "language": "python",
   "name": "python3"
  },
  "language_info": {
   "codemirror_mode": {
    "name": "ipython",
    "version": 3
   },
   "file_extension": ".py",
   "mimetype": "text/x-python",
   "name": "python",
   "nbconvert_exporter": "python",
   "pygments_lexer": "ipython3",
   "version": "3.5.2"
  }
 },
 "nbformat": 4,
 "nbformat_minor": 0
}
